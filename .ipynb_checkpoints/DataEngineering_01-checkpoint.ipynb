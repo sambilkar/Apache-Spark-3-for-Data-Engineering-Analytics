{
 "cells": [
  {
   "cell_type": "code",
   "execution_count": 1,
   "id": "68ddcd16",
   "metadata": {},
   "outputs": [],
   "source": [
    "from pyspark.sql import SparkSession\n",
    "from pyspark.sql.functions import count"
   ]
  },
  {
   "cell_type": "code",
   "execution_count": 2,
   "id": "40937d37",
   "metadata": {},
   "outputs": [],
   "source": [
    "spark = SparkSession.builder.appName(\"TotalOrdersPerRegionCountry\").getOrCreate()"
   ]
  },
  {
   "cell_type": "code",
   "execution_count": 3,
   "id": "e1a49ba2",
   "metadata": {},
   "outputs": [
    {
     "data": {
      "text/plain": [
       "pyspark.sql.session.SparkSession"
      ]
     },
     "execution_count": 3,
     "metadata": {},
     "output_type": "execute_result"
    }
   ],
   "source": [
    "type(spark)"
   ]
  },
  {
   "cell_type": "code",
   "execution_count": 7,
   "id": "2391f23d",
   "metadata": {},
   "outputs": [],
   "source": [
    "data = spark.read.csv(\"sales_records.csv\",inferSchema=True, header=True)"
   ]
  },
  {
   "cell_type": "code",
   "execution_count": 8,
   "id": "a0a08157",
   "metadata": {},
   "outputs": [
    {
     "name": "stdout",
     "output_type": "stream",
     "text": [
      "root\n",
      " |-- Region: string (nullable = true)\n",
      " |-- Country: string (nullable = true)\n",
      " |-- Item Type: string (nullable = true)\n",
      " |-- Sales Channel: string (nullable = true)\n",
      " |-- Order Priority: string (nullable = true)\n",
      " |-- Order Date: string (nullable = true)\n",
      " |-- Order ID: integer (nullable = true)\n",
      " |-- Ship Date: string (nullable = true)\n",
      " |-- Units Sold: integer (nullable = true)\n",
      " |-- Unit Price: double (nullable = true)\n",
      " |-- Unit Cost: double (nullable = true)\n",
      " |-- Total Revenue: double (nullable = true)\n",
      " |-- Total Cost: double (nullable = true)\n",
      " |-- Total Profit: double (nullable = true)\n",
      "\n"
     ]
    }
   ],
   "source": [
    "data.printSchema()"
   ]
  },
  {
   "cell_type": "code",
   "execution_count": 9,
   "id": "8cf9cc81",
   "metadata": {},
   "outputs": [
    {
     "name": "stdout",
     "output_type": "stream",
     "text": [
      "+--------------------+--------------------+---------------+-------------+--------------+----------+---------+----------+----------+----------+---------+-------------+----------+------------+\n",
      "|              Region|             Country|      Item Type|Sales Channel|Order Priority|Order Date| Order ID| Ship Date|Units Sold|Unit Price|Unit Cost|Total Revenue|Total Cost|Total Profit|\n",
      "+--------------------+--------------------+---------------+-------------+--------------+----------+---------+----------+----------+----------+---------+-------------+----------+------------+\n",
      "|Middle East and N...|          Azerbaijan|         Snacks|       Online|             C| 10/8/2014|535113847|10/23/2014|       934|    152.58|    97.44|    142509.72|  91008.96|    51500.76|\n",
      "|Central America a...|              Panama|      Cosmetics|      Offline|             L| 2/22/2015|874708545| 2/27/2015|      4551|     437.2|   263.33|    1989697.2|1198414.83|   791282.37|\n",
      "|  Sub-Saharan Africa|Sao Tome and Prin...|         Fruits|      Offline|             M| 12/9/2015|854349935| 1/18/2016|      9986|      9.33|     6.92|     93169.38|  69103.12|    24066.26|\n",
      "|  Sub-Saharan Africa|Sao Tome and Prin...|  Personal Care|       Online|             M| 9/17/2014|892836844|10/12/2014|      9118|     81.73|    56.67|    745214.14| 516717.06|   228497.08|\n",
      "|Central America a...|              Belize|      Household|      Offline|             H|  2/4/2010|129280602|  3/5/2010|      5858|    668.27|   502.54|   3914725.66|2943879.32|   970846.34|\n",
      "|              Europe|             Denmark|        Clothes|       Online|             C| 2/20/2013|473105037| 2/28/2013|      1149|    109.28|    35.84|    125562.72|  41180.16|    84382.56|\n",
      "|              Europe|             Germany|      Cosmetics|      Offline|             M| 3/31/2013|754046475|  5/3/2013|      7964|     437.2|   263.33|    3481860.8|2097160.12|  1384700.68|\n",
      "|Middle East and N...|              Turkey|         Fruits|       Online|             C| 3/26/2012|772153747|  4/7/2012|      6307|      9.33|     6.92|     58844.31|  43644.44|    15199.87|\n",
      "|              Europe|      United Kingdom|         Snacks|       Online|             H|12/29/2012|847788178| 1/15/2013|      8217|    152.58|    97.44|   1253749.86| 800664.48|   453085.38|\n",
      "|                Asia|          Kazakhstan|      Cosmetics|       Online|             H| 9/11/2015|471623599| 9/18/2015|      2758|     437.2|   263.33|    1205797.6| 726264.14|   479533.46|\n",
      "|Central America a...|               Haiti|      Cosmetics|       Online|             C|12/27/2013|554646337|  1/1/2014|      1031|     437.2|   263.33|     450753.2| 271493.23|   179259.97|\n",
      "|              Europe|               Italy|        Clothes|       Online|             M|12/17/2013|278155219| 1/10/2014|      1165|    109.28|    35.84|     127311.2|   41753.6|     85557.6|\n",
      "|              Europe|               Malta|      Household|      Offline|             L| 3/10/2015|243761575| 4/17/2015|      3322|    668.27|   502.54|   2219992.94|1669437.88|   550555.06|\n",
      "|Middle East and N...|              Jordan|      Household|      Offline|             L|  7/9/2014|223389232| 7/18/2014|      4693|    668.27|   502.54|   3136191.11|2358420.22|   777770.89|\n",
      "|                Asia|            Cambodia|     Vegetables|      Offline|             H| 6/14/2017|509274518| 6/29/2017|      4502|    154.06|    90.93|    693578.12| 409366.86|   284211.26|\n",
      "|Central America a...|Saint Kitts and N...|Office Supplies|       Online|             H| 8/10/2011|563966262| 8/29/2011|      9004|    651.21|   524.96|   5863494.84|4726739.84|   1136755.0|\n",
      "|  Sub-Saharan Africa|            Cameroon|         Fruits|       Online|             H|12/18/2015|370325791|  2/6/2016|      6486|      9.33|     6.92|     60514.38|  44883.12|    15631.26|\n",
      "|Middle East and N...|             Bahrain|     Vegetables|      Offline|             L| 6/26/2016|881526935| 7/19/2016|      2264|    154.06|    90.93|    348791.84| 205865.52|   142926.32|\n",
      "|Australia and Oce...|     Solomon Islands|      Beverages|      Offline|             C| 5/11/2015|871056020| 5/30/2015|      3688|     47.45|    31.79|     174995.6| 117241.52|    57754.08|\n",
      "|              Europe|              Monaco|Office Supplies|       Online|             M| 1/13/2012|982711875| 1/17/2012|      5137|    651.21|   524.96|   3345265.77|2696719.52|   648546.25|\n",
      "+--------------------+--------------------+---------------+-------------+--------------+----------+---------+----------+----------+----------+---------+-------------+----------+------------+\n",
      "only showing top 20 rows\n",
      "\n"
     ]
    }
   ],
   "source": [
    "data.show()"
   ]
  },
  {
   "cell_type": "code",
   "execution_count": 11,
   "id": "d8df2965",
   "metadata": {},
   "outputs": [
    {
     "name": "stdout",
     "output_type": "stream",
     "text": [
      "+---------------------------------+---------------------+---------+\n",
      "|Region                           |Country              |Order ID |\n",
      "+---------------------------------+---------------------+---------+\n",
      "|Middle East and North Africa     |Azerbaijan           |535113847|\n",
      "|Central America and the Caribbean|Panama               |874708545|\n",
      "|Sub-Saharan Africa               |Sao Tome and Principe|854349935|\n",
      "|Sub-Saharan Africa               |Sao Tome and Principe|892836844|\n",
      "|Central America and the Caribbean|Belize               |129280602|\n",
      "|Europe                           |Denmark              |473105037|\n",
      "|Europe                           |Germany              |754046475|\n",
      "|Middle East and North Africa     |Turkey               |772153747|\n",
      "|Europe                           |United Kingdom       |847788178|\n",
      "|Asia                             |Kazakhstan           |471623599|\n",
      "+---------------------------------+---------------------+---------+\n",
      "only showing top 10 rows\n",
      "\n"
     ]
    }
   ],
   "source": [
    "data.select(\"Region\",\"Country\",\"Order ID\").show(n=10,truncate=False)"
   ]
  },
  {
   "cell_type": "code",
   "execution_count": 12,
   "id": "bdf46f91",
   "metadata": {},
   "outputs": [
    {
     "data": {
      "text/plain": [
       "pyspark.sql.dataframe.DataFrame"
      ]
     },
     "execution_count": 12,
     "metadata": {},
     "output_type": "execute_result"
    }
   ],
   "source": [
    "type(data)"
   ]
  },
  {
   "cell_type": "code",
   "execution_count": 14,
   "id": "bc0c84c4",
   "metadata": {},
   "outputs": [],
   "source": [
    "count_sales_df = (data.select(\"Region\",\"Country\",\"Order ID\")\n",
    "                  .groupBy(\"Region\",\"Country\").agg(count(\"Order ID\").alias(\"Total Orders\"))\n",
    "                  .orderBy(\"Total Orders\",ascending=False))"
   ]
  },
  {
   "cell_type": "code",
   "execution_count": 15,
   "id": "7a90bb92",
   "metadata": {},
   "outputs": [
    {
     "name": "stdout",
     "output_type": "stream",
     "text": [
      "+---------------------------------+------------+------------+\n",
      "|Region                           |Country     |Total Orders|\n",
      "+---------------------------------+------------+------------+\n",
      "|Sub-Saharan Africa               |Sudan       |623         |\n",
      "|Australia and Oceania            |New Zealand |593         |\n",
      "|Europe                           |Vatican City|590         |\n",
      "|Europe                           |Malta       |589         |\n",
      "|Sub-Saharan Africa               |Mozambique  |589         |\n",
      "|Middle East and North Africa     |Tunisia     |584         |\n",
      "|Asia                             |Cambodia    |584         |\n",
      "|Central America and the Caribbean|Panama      |578         |\n",
      "|Sub-Saharan Africa               |Rwanda      |576         |\n",
      "|Sub-Saharan Africa               |South Africa|575         |\n",
      "+---------------------------------+------------+------------+\n",
      "only showing top 10 rows\n",
      "\n"
     ]
    }
   ],
   "source": [
    "count_sales_df.show(n=10, truncate=False)"
   ]
  },
  {
   "cell_type": "code",
   "execution_count": 17,
   "id": "5980bd0c",
   "metadata": {},
   "outputs": [
    {
     "name": "stdout",
     "output_type": "stream",
     "text": [
      "Total Rows:  185\n"
     ]
    }
   ],
   "source": [
    "print(\"Total Rows: \",(count_sales_df.count()))"
   ]
  },
  {
   "cell_type": "markdown",
   "id": "955601b5",
   "metadata": {},
   "source": [
    "# Spark has two types of Transformation:\n",
    "    1. Narrow Transformation\n",
    "    2. Wide Transformation and also Spark Action\n",
    "    \n",
    "Narrow Transformation is where output can be computed form a single input partition.\n",
    "Data is distributed in partition consider one Data Partition has 200records, second Data Partition has 300 records, \n",
    "and other Data Partition has 250 Records so single input reverse to each partition and the calculation of perhaps \n",
    "data operations required carried out without partition having to exchange shuffle data.\n",
    "\n",
    "Example: \n",
    "    import pyspark\n",
    "    sc = pyspark.SparkContext('local[*]')\n",
    "    \n",
    "    big_list = range(1000)\n",
    "    rdd = sc.parallelize(big_list,2)\n",
    "    odds = rdd.filter(lambda x:x % 2 != 0)\n",
    "    odds.take(5)\n",
    "    \n",
    "    age_list = [40,]\n",
    "\n",
    "result will be combined into one and output operations and the partition will not \n",
    "required to exchange or shuffle data\n",
    "    \n",
    "1. Narrow Transformation:\n",
    "    1. Map\n",
    "    2. FlatMap\n",
    "    3. Map Partition\n",
    "    4. Filter\n",
    "    5. Sample\n",
    "    6. Union\n",
    "    \n",
    "2. Wide Transformation:\n",
    "    Wide transformations require input from other partitions, data shuffling is needed before processing\n",
    "    \n",
    "    1. Intersection\n",
    "    2. Distinct\n",
    "    3. ReduceByKey\n",
    "    4. GroupByKey\n",
    "    5. Join\n",
    "    6. Cartesian\n",
    "    7. Repartition\n",
    "    8. Coalesce.\n",
    "    \n",
    "1. Wide transformations requires input from other partitions, data shuffling is needed before processing.\n",
    "2. Transformation always results in a new data frame, and actions don't result's a new dataframe / RDD"
   ]
  },
  {
   "cell_type": "markdown",
   "id": "cb78dbcd",
   "metadata": {},
   "source": [
    "# Dag Visualization\n",
    "\n",
    "PySpark code gets converted into Java Byte code using the py4j library which communicates \n",
    "with the built-in Java API.\n",
    "\n",
    "Stages can tell  a story about our Spark Program"
   ]
  },
  {
   "cell_type": "code",
   "execution_count": null,
   "id": "26ba12fb",
   "metadata": {},
   "outputs": [],
   "source": []
  }
 ],
 "metadata": {
  "kernelspec": {
   "display_name": "Python 3",
   "language": "python",
   "name": "python3"
  },
  "language_info": {
   "codemirror_mode": {
    "name": "ipython",
    "version": 3
   },
   "file_extension": ".py",
   "mimetype": "text/x-python",
   "name": "python",
   "nbconvert_exporter": "python",
   "pygments_lexer": "ipython3",
   "version": "3.8.5"
  }
 },
 "nbformat": 4,
 "nbformat_minor": 5
}
