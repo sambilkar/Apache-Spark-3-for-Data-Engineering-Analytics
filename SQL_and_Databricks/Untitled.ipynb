{
 "cells": [
  {
   "cell_type": "markdown",
   "id": "db00be30",
   "metadata": {},
   "source": [
    "# Databricks"
   ]
  },
  {
   "cell_type": "code",
   "execution_count": null,
   "id": "175a220a",
   "metadata": {},
   "outputs": [],
   "source": [
    "1. Databricks is cloud only Managed Spark Platform\n",
    "2. Manage Spark Platform: You don't have to manage the cluster yourself, no need to equip yourself with\n",
    "    installation and configuration knowledge to set up clusters and spark\n",
    "3. Databrick is cloud optimized so therefore the cluster can scale up and down as and when needed\n",
    "4. Example:\n",
    "    1. Regular shopping: 2 workers nodes will be enough\n",
    "    2. Black Friday: 10 or more worker nodes required (scale up)\n",
    "5. Scale up and down as and when needed is a cost effective solutions"
   ]
  }
 ],
 "metadata": {
  "kernelspec": {
   "display_name": "Python 3",
   "language": "python",
   "name": "python3"
  },
  "language_info": {
   "codemirror_mode": {
    "name": "ipython",
    "version": 3
   },
   "file_extension": ".py",
   "mimetype": "text/x-python",
   "name": "python",
   "nbconvert_exporter": "python",
   "pygments_lexer": "ipython3",
   "version": "3.8.5"
  }
 },
 "nbformat": 4,
 "nbformat_minor": 5
}
