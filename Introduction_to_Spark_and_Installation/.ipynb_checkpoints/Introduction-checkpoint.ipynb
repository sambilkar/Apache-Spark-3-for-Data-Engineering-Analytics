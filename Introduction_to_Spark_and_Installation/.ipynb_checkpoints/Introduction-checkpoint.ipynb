{
 "cells": [
  {
   "cell_type": "markdown",
   "id": "26d66c65",
   "metadata": {},
   "source": [
    "# Introduction to Pyspark / Spark"
   ]
  },
  {
   "cell_type": "markdown",
   "id": "b056da3c",
   "metadata": {},
   "source": [
    "1. Pyspark is a library that can be used to run python application using Apache Spark Capability in other words Pyspark is Python API for Spark\n",
    "2. Spark is not programming language:\n",
    "    write spark applications using Java, Scala, R and Python\n",
    "3. Pyspark allows you to write python based data processing applications that execute on a distributed \n",
    "    cluster in parallel"
   ]
  },
  {
   "cell_type": "markdown",
   "id": "376ce59b",
   "metadata": {},
   "source": [
    "### Apache Spark is an analytical processing engine for large scale powerful distributed data processing and also machine learning applications."
   ]
  },
  {
   "cell_type": "markdown",
   "id": "0754609b",
   "metadata": {},
   "source": [
    "# The Big Data Problem"
   ]
  },
  {
   "cell_type": "markdown",
   "id": "9318938c",
   "metadata": {},
   "source": [
    "1. 90% of the world's data was only created in the last 2-3 years\n",
    "2. Facebook has a cluster of 2000 machine that processes and holds a staggering 25-30 Petabytes of data\n",
    "3. Hadoop and Mapreduce was invented to solve the big data storage and processing problem"
   ]
  },
  {
   "cell_type": "markdown",
   "id": "872a9e2d",
   "metadata": {},
   "source": [
    "# Hadoop\n",
    "1. Hadoop is a set of software libraries that are designed to function over a distributed cluster of machines,\n",
    "Mapreduce is a data processing engine.\n",
    "2. The problem with Mapreduce: Data Processing happens only on Disk"
   ]
  },
  {
   "cell_type": "markdown",
   "id": "f5bb1729",
   "metadata": {},
   "source": [
    "#### 1. Spark performs 10 times faster than Mapreduce if the processing in on Disk, but 100 times faster in memory.\n",
    "\n",
    "#### 2. Spark Consist of a large set of data analytics and amchine learning libraries"
   ]
  },
  {
   "cell_type": "code",
   "execution_count": null,
   "id": "cc8d45a3",
   "metadata": {},
   "outputs": [],
   "source": []
  }
 ],
 "metadata": {
  "kernelspec": {
   "display_name": "Python 3",
   "language": "python",
   "name": "python3"
  },
  "language_info": {
   "codemirror_mode": {
    "name": "ipython",
    "version": 3
   },
   "file_extension": ".py",
   "mimetype": "text/x-python",
   "name": "python",
   "nbconvert_exporter": "python",
   "pygments_lexer": "ipython3",
   "version": "3.8.5"
  }
 },
 "nbformat": 4,
 "nbformat_minor": 5
}
