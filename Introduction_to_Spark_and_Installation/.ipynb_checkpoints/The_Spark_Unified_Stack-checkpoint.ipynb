{
 "cells": [
  {
   "cell_type": "markdown",
   "id": "2365e03e",
   "metadata": {},
   "source": [
    "# Spark Unified Stack\n",
    "1. November 2016, the ACM (Association of Computer Machinary) recognized Spark as a Unified Engine for \n",
    "Big Data Processing\n",
    "2. The Spark Unified Stack is built on top of strong foundation known as the Spark Core\n",
    "3. The Spark Core provides all the necessory functionality to manage and run distributed applicaitions\n",
    "such as scheduling and fault tolerance.\n",
    "\n",
    "Unified Stack \n",
    "1. Spark SQL\n",
    "2. Spark Straming (real time processing)\n",
    "3. Mlib (Machine Learning)\n",
    "4. GraphX (graph Processing)\n",
    "\n",
    "Spark Core\n",
    "1. Standalone schedular\n",
    "2. YARN\n",
    "3. Mesos"
   ]
  },
  {
   "cell_type": "markdown",
   "id": "9d54c6ff",
   "metadata": {},
   "source": [
    "# Spark Core Components\n",
    "### 1. Spark SQL:\n",
    "Designed to work with database tables and structred file formats such as CSV, JSON, Avro, ORC, Parquet.\n",
    "can read data into a dataframe. Can use Pure SQL\n",
    "### 2. Spark Structured Streaming:\n",
    "built to write applications for real-time stream processing that offers high throughput and also fault tolerant.\n",
    "### 3. Spark MLib:\n",
    "Provides many popular machine learning algorithms out of the box\n",
    "### 4. Spark GraphX:\n",
    "graph processing operates on data structures which are used to represent real-life networks, such as Likedin that connect professional people together"
   ]
  },
  {
   "cell_type": "code",
   "execution_count": null,
   "id": "543e2f28",
   "metadata": {},
   "outputs": [],
   "source": []
  }
 ],
 "metadata": {
  "kernelspec": {
   "display_name": "Python 3",
   "language": "python",
   "name": "python3"
  },
  "language_info": {
   "codemirror_mode": {
    "name": "ipython",
    "version": 3
   },
   "file_extension": ".py",
   "mimetype": "text/x-python",
   "name": "python",
   "nbconvert_exporter": "python",
   "pygments_lexer": "ipython3",
   "version": "3.8.5"
  }
 },
 "nbformat": 4,
 "nbformat_minor": 5
}
