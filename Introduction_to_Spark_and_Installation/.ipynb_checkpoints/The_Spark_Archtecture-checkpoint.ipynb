{
 "cells": [
  {
   "cell_type": "markdown",
   "id": "589dcce3",
   "metadata": {},
   "source": [
    "# Spark Architecture"
   ]
  },
  {
   "cell_type": "markdown",
   "id": "28ecbc4b",
   "metadata": {},
   "source": [
    "1. Sparks works in a master slave architecture. \n",
    "2. Master node is referred to as the \"Driver\" and the slave nodes \"Workers\"\n",
    "3. A spark sesssion creates a Spark Context which is an entry point to your application\n",
    "4. Spark operations which are your data transforamtions are executed on worker nodes\n",
    "5. Resources on worker nodes are managed by a cluster Manager"
   ]
  },
  {
   "cell_type": "markdown",
   "id": "c99cc742",
   "metadata": {},
   "source": [
    "# Resources and Cluster Manager"
   ]
  },
  {
   "cell_type": "markdown",
   "id": "1cb6c992",
   "metadata": {},
   "source": [
    "1. Companies rely on a resources management system such as Apache YARN, Mesos or in Spark Standalone Mode\n",
    "2. The two main componenets of a resources manager are the cluster manager and the worker\n",
    "3. The cluster manager knows where the workers are located, how much memory and CPU cores each worker has\n",
    "4. When you execute a spark program, the cluster manager determines how many work nodes will be required, how much RAM and CPU on each worker node to execute your program\n"
   ]
  },
  {
   "cell_type": "markdown",
   "id": "70e09799",
   "metadata": {},
   "source": [
    "# The Spark Driver "
   ]
  },
  {
   "cell_type": "markdown",
   "id": "10425d92",
   "metadata": {},
   "source": [
    "1. The spark driver is the central cordinator of spark application\n",
    "2. The Spark driver interacts with the cluster Manager to figure out which machines to run processing logic on\n",
    "3. The Spark driver requests the cluster manager to lauch the Spark executor to do the processing on worker nodes\n",
    "4. The Spark driver creates a spark session (Creates a Spark Context) which then executes your Spark Configurations to allocate the required API's for your applications"
   ]
  },
  {
   "cell_type": "code",
   "execution_count": null,
   "id": "f8319309",
   "metadata": {},
   "outputs": [],
   "source": []
  }
 ],
 "metadata": {
  "kernelspec": {
   "display_name": "Python 3",
   "language": "python",
   "name": "python3"
  },
  "language_info": {
   "codemirror_mode": {
    "name": "ipython",
    "version": 3
   },
   "file_extension": ".py",
   "mimetype": "text/x-python",
   "name": "python",
   "nbconvert_exporter": "python",
   "pygments_lexer": "ipython3",
   "version": "3.8.5"
  }
 },
 "nbformat": 4,
 "nbformat_minor": 5
}
