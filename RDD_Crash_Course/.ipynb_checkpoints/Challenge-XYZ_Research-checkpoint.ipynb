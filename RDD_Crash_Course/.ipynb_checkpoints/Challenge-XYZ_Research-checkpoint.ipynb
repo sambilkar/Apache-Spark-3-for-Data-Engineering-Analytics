{
 "cells": [
  {
   "cell_type": "markdown",
   "id": "e741c33f",
   "metadata": {},
   "source": [
    "# Challenge XYZ Research\n",
    "\n",
    "1. XYZ Research conducts research on diversified topics and each research project comes with a \"Research ID\"\n",
    "2. Each Research may be concluded in one or more years but not more than 3 years\n",
    "3. Each Research is regarded as a project"
   ]
  },
  {
   "cell_type": "markdown",
   "id": "55721d01",
   "metadata": {},
   "source": [
    "### Task1: Find how many research projects were intiated in the 3 years\n",
    "### Task2: Find how many research projects were completed in the first year.\n",
    "### Task3: Find how many research projects were completed in the first 2 years"
   ]
  },
  {
   "cell_type": "code",
   "execution_count": 2,
   "id": "473f4876",
   "metadata": {},
   "outputs": [],
   "source": [
    "from pyspark.sql import SparkSession\n",
    "spark = SparkSession.builder.appName(\"TextChallenge\").getOrCreate()"
   ]
  },
  {
   "cell_type": "code",
   "execution_count": 3,
   "id": "7762f74e",
   "metadata": {},
   "outputs": [],
   "source": [
    "data2001List = ['RIN1', 'RIN2', 'RIN3', 'RIN4', 'RIN5', 'RIN6', 'RIN7']\n",
    "data2002List = ['RIN3', 'RIN4', 'RIN7', 'RIN8', 'RIN9']\n",
    "data2003List = ['RIN4', 'RIN8', 'RIN10', 'RIN11', 'RIN12']"
   ]
  },
  {
   "cell_type": "code",
   "execution_count": 4,
   "id": "687a0bc5",
   "metadata": {},
   "outputs": [],
   "source": [
    "data2001RDD = spark.sparkContext.parallelize(data2001List)"
   ]
  },
  {
   "cell_type": "code",
   "execution_count": 5,
   "id": "0012a96f",
   "metadata": {},
   "outputs": [],
   "source": [
    "data2002RDD = spark.sparkContext.parallelize(data2002List)"
   ]
  },
  {
   "cell_type": "code",
   "execution_count": 6,
   "id": "1746f08f",
   "metadata": {},
   "outputs": [],
   "source": [
    "data2003RDD = spark.sparkContext.parallelize(data2003List)"
   ]
  },
  {
   "cell_type": "code",
   "execution_count": 7,
   "id": "02e97342",
   "metadata": {},
   "outputs": [
    {
     "data": {
      "text/plain": [
       "['RIN1',\n",
       " 'RIN2',\n",
       " 'RIN3',\n",
       " 'RIN4',\n",
       " 'RIN5',\n",
       " 'RIN6',\n",
       " 'RIN7',\n",
       " 'RIN3',\n",
       " 'RIN4',\n",
       " 'RIN7',\n",
       " 'RIN8',\n",
       " 'RIN9']"
      ]
     },
     "execution_count": 7,
     "metadata": {},
     "output_type": "execute_result"
    }
   ],
   "source": [
    "unionof2001_2002RDD = data2001RDD.union(data2002RDD)\n",
    "unionof2001_2002RDD.collect()"
   ]
  },
  {
   "cell_type": "code",
   "execution_count": 8,
   "id": "9bb0fc6f",
   "metadata": {},
   "outputs": [
    {
     "data": {
      "text/plain": [
       "['RIN1',\n",
       " 'RIN2',\n",
       " 'RIN3',\n",
       " 'RIN4',\n",
       " 'RIN5',\n",
       " 'RIN6',\n",
       " 'RIN7',\n",
       " 'RIN3',\n",
       " 'RIN4',\n",
       " 'RIN7',\n",
       " 'RIN8',\n",
       " 'RIN9']"
      ]
     },
     "execution_count": 8,
     "metadata": {},
     "output_type": "execute_result"
    }
   ],
   "source": [
    "allResearchRDD = unionof2001_2002RDD.union(data2003RDD)\n",
    "unionof2001_2002RDD.collect()"
   ]
  },
  {
   "cell_type": "code",
   "execution_count": 10,
   "id": "bfb66201",
   "metadata": {},
   "outputs": [
    {
     "data": {
      "text/plain": [
       "['RIN1',\n",
       " 'RIN2',\n",
       " 'RIN3',\n",
       " 'RIN4',\n",
       " 'RIN5',\n",
       " 'RIN6',\n",
       " 'RIN7',\n",
       " 'RIN3',\n",
       " 'RIN4',\n",
       " 'RIN7',\n",
       " 'RIN8',\n",
       " 'RIN9']"
      ]
     },
     "execution_count": 10,
     "metadata": {},
     "output_type": "execute_result"
    }
   ],
   "source": [
    "allResearchRDD = unionof2001_2002RDD.union(data2003RDD).distinct()\n",
    "unionof2001_2002RDD.collect()"
   ]
  },
  {
   "cell_type": "code",
   "execution_count": 12,
   "id": "fbe1ba34",
   "metadata": {},
   "outputs": [
    {
     "data": {
      "text/plain": [
       "12"
      ]
     },
     "execution_count": 12,
     "metadata": {},
     "output_type": "execute_result"
    }
   ],
   "source": [
    "allResearchRDD.count()"
   ]
  },
  {
   "cell_type": "markdown",
   "id": "b6153f6d",
   "metadata": {},
   "source": [
    "### When we sbstract dataset B from dataset A, that will give us all the elements that are members of dataset A but not dataset B"
   ]
  },
  {
   "cell_type": "code",
   "execution_count": 13,
   "id": "73027053",
   "metadata": {},
   "outputs": [
    {
     "data": {
      "text/plain": [
       "['RIN2', 'RIN5', 'RIN6', 'RIN1']"
      ]
     },
     "execution_count": 13,
     "metadata": {},
     "output_type": "execute_result"
    }
   ],
   "source": [
    "firstYearCompletionRDD = data2001RDD.subtract(data2002RDD)\n",
    "firstYearCompletionRDD.collect()"
   ]
  },
  {
   "cell_type": "code",
   "execution_count": 14,
   "id": "a3e6a2b6",
   "metadata": {},
   "outputs": [
    {
     "data": {
      "text/plain": [
       "['RIN1',\n",
       " 'RIN2',\n",
       " 'RIN3',\n",
       " 'RIN4',\n",
       " 'RIN5',\n",
       " 'RIN6',\n",
       " 'RIN7',\n",
       " 'RIN3',\n",
       " 'RIN4',\n",
       " 'RIN7',\n",
       " 'RIN8',\n",
       " 'RIN9']"
      ]
     },
     "execution_count": 14,
     "metadata": {},
     "output_type": "execute_result"
    }
   ],
   "source": [
    "unionTwoYearsRDD = data2001RDD.union(data2002RDD)\n",
    "unionTwoYearsRDD.collect()"
   ]
  },
  {
   "cell_type": "code",
   "execution_count": 15,
   "id": "375ff415",
   "metadata": {},
   "outputs": [
    {
     "data": {
      "text/plain": [
       "['RIN1', 'RIN9', 'RIN2', 'RIN3', 'RIN5', 'RIN6', 'RIN7']"
      ]
     },
     "execution_count": 15,
     "metadata": {},
     "output_type": "execute_result"
    }
   ],
   "source": [
    "unionTwoYearsRDD.subtract(data2003RDD).distinct().collect()"
   ]
  },
  {
   "cell_type": "code",
   "execution_count": null,
   "id": "5b14f987",
   "metadata": {},
   "outputs": [],
   "source": []
  }
 ],
 "metadata": {
  "kernelspec": {
   "display_name": "Python 3",
   "language": "python",
   "name": "python3"
  },
  "language_info": {
   "codemirror_mode": {
    "name": "ipython",
    "version": 3
   },
   "file_extension": ".py",
   "mimetype": "text/x-python",
   "name": "python",
   "nbconvert_exporter": "python",
   "pygments_lexer": "ipython3",
   "version": "3.8.5"
  }
 },
 "nbformat": 4,
 "nbformat_minor": 5
}
