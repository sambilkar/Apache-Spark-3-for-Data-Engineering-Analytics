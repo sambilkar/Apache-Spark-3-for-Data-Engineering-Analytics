{
 "cells": [
  {
   "cell_type": "markdown",
   "id": "a8681613",
   "metadata": {},
   "source": [
    "### Task1: Convert the temparatures from Farenheit to Celsius"
   ]
  },
  {
   "cell_type": "markdown",
   "id": "eb517316",
   "metadata": {},
   "source": [
    "### Task2: Get all the temparature data points greater than 13 degrees Celcisus\n",
    "1. Use mathematical formula you see on screen to convert Fahrenheit to Celcius\n",
    "2. Use Your Knowledge on RDD Transformations and Actions"
   ]
  },
  {
   "cell_type": "code",
   "execution_count": 1,
   "id": "955ef107",
   "metadata": {},
   "outputs": [],
   "source": [
    "from pyspark.sql import SparkSession"
   ]
  },
  {
   "cell_type": "code",
   "execution_count": 2,
   "id": "5ae39584",
   "metadata": {},
   "outputs": [],
   "source": [
    "spark = SparkSession.builder.appName(\"RDDChallenge\").getOrCreate()"
   ]
  },
  {
   "cell_type": "code",
   "execution_count": 3,
   "id": "283c4a80",
   "metadata": {},
   "outputs": [],
   "source": [
    "templist = [59, 57.2, 53.6, 55.4, 51.8, 53.6, 55.4]"
   ]
  },
  {
   "cell_type": "code",
   "execution_count": 4,
   "id": "c8ace615",
   "metadata": {},
   "outputs": [],
   "source": [
    "tempRDD = spark.sparkContext.parallelize(templist)"
   ]
  },
  {
   "cell_type": "code",
   "execution_count": 5,
   "id": "12e0d76c",
   "metadata": {},
   "outputs": [
    {
     "data": {
      "text/plain": [
       "[59, 57.2, 53.6, 55.4, 51.8, 53.6, 55.4]"
      ]
     },
     "execution_count": 5,
     "metadata": {},
     "output_type": "execute_result"
    }
   ],
   "source": [
    "tempRDD.collect()"
   ]
  },
  {
   "cell_type": "code",
   "execution_count": 6,
   "id": "b80dfa07",
   "metadata": {},
   "outputs": [],
   "source": [
    "def fahrenheitToCenttigrade(temprature):\n",
    "    centigrade = (temprature - 32) * 5 / 9\n",
    "    return centigrade"
   ]
  },
  {
   "cell_type": "code",
   "execution_count": 7,
   "id": "a279aa62",
   "metadata": {},
   "outputs": [
    {
     "data": {
      "text/plain": [
       "15.0"
      ]
     },
     "execution_count": 7,
     "metadata": {},
     "output_type": "execute_result"
    }
   ],
   "source": [
    "fahrenheitToCenttigrade(59)"
   ]
  },
  {
   "cell_type": "code",
   "execution_count": 8,
   "id": "a92dcdba",
   "metadata": {},
   "outputs": [
    {
     "data": {
      "text/plain": [
       "[15.0, 14.000000000000002, 12.0, 13.0, 10.999999999999998, 12.0, 13.0]"
      ]
     },
     "execution_count": 8,
     "metadata": {},
     "output_type": "execute_result"
    }
   ],
   "source": [
    "tempFahRDD = tempRDD.map(fahrenheitToCenttigrade)\n",
    "tempFahRDD.collect()"
   ]
  },
  {
   "cell_type": "code",
   "execution_count": 9,
   "id": "d17c1f11",
   "metadata": {},
   "outputs": [
    {
     "data": {
      "text/plain": [
       "[15.0, 14.000000000000002, 13.0, 13.0]"
      ]
     },
     "execution_count": 9,
     "metadata": {},
     "output_type": "execute_result"
    }
   ],
   "source": [
    "filterTempRDD = tempFahRDD.filter(lambda x:x >=13)\n",
    "filterTempRDD.collect()"
   ]
  },
  {
   "cell_type": "code",
   "execution_count": null,
   "id": "56cdb41d",
   "metadata": {},
   "outputs": [],
   "source": []
  }
 ],
 "metadata": {
  "kernelspec": {
   "display_name": "Python 3",
   "language": "python",
   "name": "python3"
  },
  "language_info": {
   "codemirror_mode": {
    "name": "ipython",
    "version": 3
   },
   "file_extension": ".py",
   "mimetype": "text/x-python",
   "name": "python",
   "nbconvert_exporter": "python",
   "pygments_lexer": "ipython3",
   "version": "3.8.5"
  }
 },
 "nbformat": 4,
 "nbformat_minor": 5
}
