{
 "cells": [
  {
   "cell_type": "markdown",
   "id": "936f03d1",
   "metadata": {},
   "source": [
    "# Introduction to RDDs\n",
    "\n",
    "1. RDD = Resillient Distributed Datasets\n",
    "2. RDD API (Application Programmers interface)was released in 2011\n",
    "\n",
    "3. RDD is an immutable and resillient distributed collection of elements of your data, that is partitioned across \n",
    "    nodes in your cluster.\n",
    "\n",
    "4. RDD operations are typically referred to as Transformations and Actions, and the operations are executed in parallel.\n",
    "5. RDDs ar fault-tollerent"
   ]
  },
  {
   "cell_type": "markdown",
   "id": "ba15291e",
   "metadata": {},
   "source": [
    "# Why Learn RDDs?\n",
    "1. You want low level transforamtion and action to control your datasets\n",
    "2. You want to handle unstructred data that cannot be handled by structured API's such as DataFrame and Datasets.\n",
    "3. You want to optimize your spark applications using a low level API"
   ]
  },
  {
   "cell_type": "markdown",
   "id": "1ad03a4e",
   "metadata": {},
   "source": [
    "# Data Preparation"
   ]
  },
  {
   "cell_type": "code",
   "execution_count": 1,
   "id": "ef7ea754",
   "metadata": {},
   "outputs": [],
   "source": [
    "from pyspark.sql import SparkSession"
   ]
  },
  {
   "cell_type": "code",
   "execution_count": 2,
   "id": "d7c34925",
   "metadata": {},
   "outputs": [],
   "source": [
    "spark = SparkSession.builder.appName(\"TestingRDDS\").getOrCreate()"
   ]
  },
  {
   "cell_type": "code",
   "execution_count": 3,
   "id": "041306fa",
   "metadata": {},
   "outputs": [],
   "source": [
    "word_list = \"Spark make lide a lot easier and put men into good spirits, Spark is too Awesome!\".split(\" \")"
   ]
  },
  {
   "cell_type": "code",
   "execution_count": 4,
   "id": "2c745594",
   "metadata": {},
   "outputs": [
    {
     "data": {
      "text/plain": [
       "list"
      ]
     },
     "execution_count": 4,
     "metadata": {},
     "output_type": "execute_result"
    }
   ],
   "source": [
    "type(word_list)"
   ]
  },
  {
   "cell_type": "code",
   "execution_count": 5,
   "id": "f32c5538",
   "metadata": {},
   "outputs": [
    {
     "name": "stdout",
     "output_type": "stream",
     "text": [
      "['Spark', 'make', 'lide', 'a', 'lot', 'easier', 'and', 'put', 'men', 'into', 'good', 'spirits,', 'Spark', 'is', 'too', 'Awesome!']\n"
     ]
    }
   ],
   "source": [
    "print(word_list)"
   ]
  },
  {
   "cell_type": "code",
   "execution_count": 6,
   "id": "6cfc2d57",
   "metadata": {},
   "outputs": [],
   "source": [
    "word_rdd = spark.sparkContext.parallelize(word_list)"
   ]
  },
  {
   "cell_type": "code",
   "execution_count": 7,
   "id": "a0e55025",
   "metadata": {},
   "outputs": [],
   "source": [
    "word_data = word_rdd.collect()"
   ]
  },
  {
   "cell_type": "code",
   "execution_count": 9,
   "id": "e5441837",
   "metadata": {},
   "outputs": [
    {
     "name": "stdout",
     "output_type": "stream",
     "text": [
      "Spark\n",
      "make\n",
      "lide\n",
      "a\n",
      "lot\n",
      "easier\n",
      "and\n",
      "put\n",
      "men\n",
      "into\n",
      "good\n",
      "spirits,\n",
      "Spark\n",
      "is\n",
      "too\n",
      "Awesome!\n"
     ]
    }
   ],
   "source": [
    "for word in word_data:\n",
    "    print(word)"
   ]
  },
  {
   "cell_type": "markdown",
   "id": "05933910",
   "metadata": {},
   "source": [
    "# Distance and Filter Transformation"
   ]
  },
  {
   "cell_type": "code",
   "execution_count": 10,
   "id": "ebefeef0",
   "metadata": {},
   "outputs": [
    {
     "data": {
      "text/plain": [
       "16"
      ]
     },
     "execution_count": 10,
     "metadata": {},
     "output_type": "execute_result"
    }
   ],
   "source": [
    "word_rdd.count()"
   ]
  },
  {
   "cell_type": "code",
   "execution_count": 11,
   "id": "2eced459",
   "metadata": {},
   "outputs": [
    {
     "data": {
      "text/plain": [
       "15"
      ]
     },
     "execution_count": 11,
     "metadata": {},
     "output_type": "execute_result"
    }
   ],
   "source": [
    "word_rdd.distinct().count()"
   ]
  },
  {
   "cell_type": "code",
   "execution_count": 13,
   "id": "37c2399c",
   "metadata": {},
   "outputs": [
    {
     "name": "stdout",
     "output_type": "stream",
     "text": [
      "Spark\n",
      "make\n",
      "lide\n",
      "a\n",
      "lot\n",
      "easier\n",
      "and\n",
      "put\n",
      "men\n",
      "into\n",
      "good\n",
      "spirits,\n",
      "Spark\n",
      "is\n",
      "too\n",
      "Awesome!\n"
     ]
    }
   ],
   "source": [
    "word_data = word_rdd.collect()\n",
    "for word in word_data:\n",
    "    print(word)"
   ]
  },
  {
   "cell_type": "code",
   "execution_count": 14,
   "id": "9e6d0e91",
   "metadata": {},
   "outputs": [],
   "source": [
    "words_unique_rdd = word_rdd.distinct()"
   ]
  },
  {
   "cell_type": "code",
   "execution_count": 15,
   "id": "def907a9",
   "metadata": {},
   "outputs": [
    {
     "name": "stdout",
     "output_type": "stream",
     "text": [
      "put\n",
      "good\n",
      "a\n",
      "lot\n",
      "and\n",
      "men\n",
      "Awesome!\n",
      "Spark\n",
      "make\n",
      "lide\n",
      "into\n",
      "is\n",
      "easier\n",
      "spirits,\n",
      "too\n"
     ]
    }
   ],
   "source": [
    "for word in words_unique_rdd.collect():\n",
    "    print(word)"
   ]
  },
  {
   "cell_type": "code",
   "execution_count": 16,
   "id": "9181890a",
   "metadata": {},
   "outputs": [],
   "source": [
    "def wordStartsWith(word, letter):\n",
    "    return word.startswith(letter)"
   ]
  },
  {
   "cell_type": "code",
   "execution_count": 19,
   "id": "5fca54a9",
   "metadata": {},
   "outputs": [
    {
     "data": {
      "text/plain": [
       "['Spark', 'Spark']"
      ]
     },
     "execution_count": 19,
     "metadata": {},
     "output_type": "execute_result"
    }
   ],
   "source": [
    "word_rdd.filter(lambda word: wordStartsWith(word,\"S\")).collect()"
   ]
  },
  {
   "cell_type": "code",
   "execution_count": 20,
   "id": "8a7ee282",
   "metadata": {},
   "outputs": [],
   "source": [
    "words_trd_rdd = word_rdd.map(lambda word: (word, word[0],wordStartsWith(word, \"S\")))"
   ]
  },
  {
   "cell_type": "code",
   "execution_count": 21,
   "id": "7e498315",
   "metadata": {},
   "outputs": [
    {
     "name": "stdout",
     "output_type": "stream",
     "text": [
      "('Spark', 'S', True)\n",
      "('make', 'm', False)\n",
      "('lide', 'l', False)\n",
      "('a', 'a', False)\n",
      "('lot', 'l', False)\n",
      "('easier', 'e', False)\n",
      "('and', 'a', False)\n",
      "('put', 'p', False)\n",
      "('men', 'm', False)\n",
      "('into', 'i', False)\n",
      "('good', 'g', False)\n",
      "('spirits,', 's', False)\n",
      "('Spark', 'S', True)\n",
      "('is', 'i', False)\n",
      "('too', 't', False)\n",
      "('Awesome!', 'A', False)\n"
     ]
    }
   ],
   "source": [
    "for element in words_trd_rdd.collect():\n",
    "    print(element)"
   ]
  },
  {
   "cell_type": "code",
   "execution_count": 23,
   "id": "c3869f8d",
   "metadata": {},
   "outputs": [
    {
     "data": {
      "text/plain": [
       "['S', 'p', 'a', 'r', 'k', 'm', 'a', 'k', 'e', 'l']"
      ]
     },
     "execution_count": 23,
     "metadata": {},
     "output_type": "execute_result"
    }
   ],
   "source": [
    "word_rdd.flatMap(lambda word: list(word)).take(10)"
   ]
  },
  {
   "cell_type": "markdown",
   "id": "44dde96b",
   "metadata": {},
   "source": [
    "# Sort By Key Transformation"
   ]
  },
  {
   "cell_type": "code",
   "execution_count": 24,
   "id": "f44c50d3",
   "metadata": {},
   "outputs": [],
   "source": [
    "countries_list = [(\"India\",91),(\"USA\",4),(\"Greece\",13)]\n",
    "countries_rdd = spark.sparkContext.parallelize(countries_list)"
   ]
  },
  {
   "cell_type": "code",
   "execution_count": 25,
   "id": "30d92678",
   "metadata": {},
   "outputs": [],
   "source": [
    "srtd_countries_list = countries_rdd.sortByKey().collect()"
   ]
  },
  {
   "cell_type": "code",
   "execution_count": 26,
   "id": "f03d2a6b",
   "metadata": {},
   "outputs": [
    {
     "name": "stdout",
     "output_type": "stream",
     "text": [
      "('Greece', 13)\n",
      "('India', 91)\n",
      "('USA', 4)\n"
     ]
    }
   ],
   "source": [
    "for country in srtd_countries_list:\n",
    "    print(country)"
   ]
  },
  {
   "cell_type": "code",
   "execution_count": 27,
   "id": "2f2d9f3a",
   "metadata": {},
   "outputs": [],
   "source": [
    "srtd_countries_list = countries_rdd.map(lambda c: (c[1],c[0])).sortByKey(False).collect()"
   ]
  },
  {
   "cell_type": "code",
   "execution_count": 28,
   "id": "eed0b040",
   "metadata": {},
   "outputs": [
    {
     "name": "stdout",
     "output_type": "stream",
     "text": [
      "(91, 'India')\n",
      "(13, 'Greece')\n",
      "(4, 'USA')\n"
     ]
    }
   ],
   "source": [
    "for country in srtd_countries_list:\n",
    "    print(country)"
   ]
  },
  {
   "cell_type": "markdown",
   "id": "4b230b67",
   "metadata": {},
   "source": [
    "# RDD Actions"
   ]
  },
  {
   "cell_type": "code",
   "execution_count": 29,
   "id": "1f30ef93",
   "metadata": {},
   "outputs": [],
   "source": [
    "num_list = [1,5,2,3,4]"
   ]
  },
  {
   "cell_type": "code",
   "execution_count": 31,
   "id": "d3c84a74",
   "metadata": {},
   "outputs": [
    {
     "name": "stdout",
     "output_type": "stream",
     "text": [
      "15\n"
     ]
    }
   ],
   "source": [
    "result = spark.sparkContext.parallelize(num_list).reduce(lambda x, y:x+y)\n",
    "print(result)"
   ]
  },
  {
   "cell_type": "code",
   "execution_count": 32,
   "id": "7ef7de70",
   "metadata": {},
   "outputs": [],
   "source": [
    "def sumList(x,y):\n",
    "    print(x,y)\n",
    "    return x + y"
   ]
  },
  {
   "cell_type": "code",
   "execution_count": 33,
   "id": "1d8ae3f8",
   "metadata": {},
   "outputs": [
    {
     "name": "stdout",
     "output_type": "stream",
     "text": [
      "1 5\n",
      "6 2\n",
      "8 7\n",
      "15\n"
     ]
    }
   ],
   "source": [
    "result = spark.sparkContext.parallelize(num_list).reduce(lambda x,y: sumList(x,y))\n",
    "print(result)"
   ]
  },
  {
   "cell_type": "code",
   "execution_count": 34,
   "id": "c907ba88",
   "metadata": {},
   "outputs": [],
   "source": [
    "def wordLengthReducer(leftword, rightword):\n",
    "    if len(leftword) > len(rightword):\n",
    "        return leftword\n",
    "    else:\n",
    "        return rightword"
   ]
  },
  {
   "cell_type": "code",
   "execution_count": 35,
   "id": "83536314",
   "metadata": {},
   "outputs": [
    {
     "data": {
      "text/plain": [
       "'Awesome!'"
      ]
     },
     "execution_count": 35,
     "metadata": {},
     "output_type": "execute_result"
    }
   ],
   "source": [
    "word_rdd.reduce(wordLengthReducer)"
   ]
  },
  {
   "cell_type": "code",
   "execution_count": 36,
   "id": "681f8d7a",
   "metadata": {},
   "outputs": [
    {
     "data": {
      "text/plain": [
       "'Spark'"
      ]
     },
     "execution_count": 36,
     "metadata": {},
     "output_type": "execute_result"
    }
   ],
   "source": [
    "word_rdd.first()"
   ]
  },
  {
   "cell_type": "code",
   "execution_count": 37,
   "id": "5997ccb3",
   "metadata": {},
   "outputs": [
    {
     "data": {
      "text/plain": [
       "20"
      ]
     },
     "execution_count": 37,
     "metadata": {},
     "output_type": "execute_result"
    }
   ],
   "source": [
    "spark.sparkContext.parallelize(range(1,21)).max()"
   ]
  },
  {
   "cell_type": "code",
   "execution_count": 38,
   "id": "05b30a72",
   "metadata": {},
   "outputs": [
    {
     "data": {
      "text/plain": [
       "1"
      ]
     },
     "execution_count": 38,
     "metadata": {},
     "output_type": "execute_result"
    }
   ],
   "source": [
    "spark.sparkContext.parallelize(range(1,21)).min()"
   ]
  },
  {
   "cell_type": "code",
   "execution_count": null,
   "id": "4e946f74",
   "metadata": {},
   "outputs": [],
   "source": []
  }
 ],
 "metadata": {
  "kernelspec": {
   "display_name": "Python 3",
   "language": "python",
   "name": "python3"
  },
  "language_info": {
   "codemirror_mode": {
    "name": "ipython",
    "version": 3
   },
   "file_extension": ".py",
   "mimetype": "text/x-python",
   "name": "python",
   "nbconvert_exporter": "python",
   "pygments_lexer": "ipython3",
   "version": "3.8.5"
  }
 },
 "nbformat": 4,
 "nbformat_minor": 5
}
