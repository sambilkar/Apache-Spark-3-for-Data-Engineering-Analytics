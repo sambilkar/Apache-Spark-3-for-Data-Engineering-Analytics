{
 "cells": [
  {
   "cell_type": "code",
   "execution_count": 1,
   "id": "7f7fa4ef",
   "metadata": {},
   "outputs": [],
   "source": [
    "from pyspark.sql import SparkSession"
   ]
  },
  {
   "cell_type": "code",
   "execution_count": 2,
   "id": "23645f66",
   "metadata": {},
   "outputs": [],
   "source": [
    "from pyspark.sql.types import StructType, StructField, StringType,IntegerType"
   ]
  },
  {
   "cell_type": "code",
   "execution_count": 3,
   "id": "9af0727f",
   "metadata": {},
   "outputs": [],
   "source": [
    "spark = SparkSession.builder.appName(\"PySparkPractice\").getOrCreate()"
   ]
  },
  {
   "cell_type": "markdown",
   "id": "94a313c0",
   "metadata": {},
   "source": [
    "#### Spark SQL is amodule for working with structured data, and Spark SQL types are used to describe the structured of the data"
   ]
  },
  {
   "cell_type": "code",
   "execution_count": 4,
   "id": "e317f962",
   "metadata": {},
   "outputs": [],
   "source": [
    "data = [(\"James\",\"\",\"Smith\",\"36636\",\"M\",3000),\n",
    "    (\"Michael\",\"Rose\",\"\",\"40288\",\"M\",4000),\n",
    "    (\"Robert\",\"\",\"Williams\",\"42114\",\"M\",4000),\n",
    "    (\"Maria\",\"Anne\",\"Jones\",\"39192\",\"F\",4000),\n",
    "    (\"Jen\",\"Mary\",\"Brown\",\"\",\"F\",-1)\n",
    "  ]"
   ]
  },
  {
   "cell_type": "code",
   "execution_count": 6,
   "id": "02c116a9",
   "metadata": {},
   "outputs": [
    {
     "data": {
      "text/plain": [
       "list"
      ]
     },
     "execution_count": 6,
     "metadata": {},
     "output_type": "execute_result"
    }
   ],
   "source": [
    "type(data)"
   ]
  },
  {
   "cell_type": "code",
   "execution_count": 7,
   "id": "43296de5",
   "metadata": {},
   "outputs": [],
   "source": [
    "schema = StructType([\n",
    "    StructField(\"firstname\", StringType(),True),\n",
    "    StructField(\"middlename\", StringType(),True),\n",
    "    StructField(\"lastname\", StringType(),True),\n",
    "    StructField(\"id\", StringType(),True),\n",
    "    StructField(\"gender\", StringType(),True),\n",
    "    StructField(\"salary\", StringType(),True)\n",
    "])"
   ]
  },
  {
   "cell_type": "markdown",
   "id": "a0000a38",
   "metadata": {},
   "source": [
    "#### A Struct type is a collection of StructField that defines the column name, column data type and a boolean value tospecifty if the field can be nullable or not."
   ]
  },
  {
   "cell_type": "code",
   "execution_count": 9,
   "id": "1a82cf22",
   "metadata": {},
   "outputs": [
    {
     "name": "stdout",
     "output_type": "stream",
     "text": [
      "root\n",
      " |-- firstname: string (nullable = true)\n",
      " |-- middlename: string (nullable = true)\n",
      " |-- lastname: string (nullable = true)\n",
      " |-- id: string (nullable = true)\n",
      " |-- gender: string (nullable = true)\n",
      " |-- salary: string (nullable = true)\n",
      "\n"
     ]
    }
   ],
   "source": [
    "df = spark.createDataFrame(data= data, schema=schema)\n",
    "df.printSchema()"
   ]
  },
  {
   "cell_type": "code",
   "execution_count": 10,
   "id": "97996f9f",
   "metadata": {},
   "outputs": [
    {
     "name": "stdout",
     "output_type": "stream",
     "text": [
      "+---------+----------+--------+-----+------+------+\n",
      "|firstname|middlename|lastname|id   |gender|salary|\n",
      "+---------+----------+--------+-----+------+------+\n",
      "|James    |          |Smith   |36636|M     |3000  |\n",
      "|Michael  |Rose      |        |40288|M     |4000  |\n",
      "|Robert   |          |Williams|42114|M     |4000  |\n",
      "|Maria    |Anne      |Jones   |39192|F     |4000  |\n",
      "|Jen      |Mary      |Brown   |     |F     |-1    |\n",
      "+---------+----------+--------+-----+------+------+\n",
      "\n"
     ]
    }
   ],
   "source": [
    "df.show(truncate = False)"
   ]
  },
  {
   "cell_type": "markdown",
   "id": "29646104",
   "metadata": {},
   "source": [
    "### The DataFrame Reader is a built in API within the DataFrame that allows you to read various source files such as CSV, JSON, and other BigData file types such as Parquet, ORC and AVRO"
   ]
  },
  {
   "cell_type": "code",
   "execution_count": null,
   "id": "6130e48d",
   "metadata": {},
   "outputs": [],
   "source": []
  }
 ],
 "metadata": {
  "kernelspec": {
   "display_name": "Python 3",
   "language": "python",
   "name": "python3"
  },
  "language_info": {
   "codemirror_mode": {
    "name": "ipython",
    "version": 3
   },
   "file_extension": ".py",
   "mimetype": "text/x-python",
   "name": "python",
   "nbconvert_exporter": "python",
   "pygments_lexer": "ipython3",
   "version": "3.8.5"
  }
 },
 "nbformat": 4,
 "nbformat_minor": 5
}
