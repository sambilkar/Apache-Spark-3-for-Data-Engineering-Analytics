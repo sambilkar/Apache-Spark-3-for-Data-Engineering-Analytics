{
 "cells": [
  {
   "cell_type": "markdown",
   "id": "8135d92b",
   "metadata": {},
   "source": [
    "### The DataFrame Reader is a built in API within the DataFrame that allows you to read various source files such as CSV, JSON, and other BigData file types such as Parquet, ORC and AVRO"
   ]
  },
  {
   "cell_type": "code",
   "execution_count": 1,
   "id": "b58db486",
   "metadata": {},
   "outputs": [],
   "source": [
    "from pyspark.sql import SparkSession"
   ]
  },
  {
   "cell_type": "code",
   "execution_count": 2,
   "id": "f3a250fe",
   "metadata": {},
   "outputs": [],
   "source": [
    "spark = SparkSession.builder.appName(\"FireIncident\").getOrCreate()"
   ]
  },
  {
   "cell_type": "code",
   "execution_count": 5,
   "id": "ac5c75b9",
   "metadata": {},
   "outputs": [],
   "source": [
    "data = spark.read.csv(\"fire-incidents.csv\",inferSchema=True, header=True)"
   ]
  },
  {
   "cell_type": "code",
   "execution_count": 6,
   "id": "95b7b7f9",
   "metadata": {},
   "outputs": [
    {
     "name": "stdout",
     "output_type": "stream",
     "text": [
      "root\n",
      " |-- IncidentNumber: integer (nullable = true)\n",
      " |-- ExposureNumber: integer (nullable = true)\n",
      " |-- ID: integer (nullable = true)\n",
      " |-- Address: string (nullable = true)\n",
      " |-- IncidentDate: string (nullable = true)\n",
      " |-- CallNumber: string (nullable = true)\n",
      " |-- AlarmDtTm: string (nullable = true)\n",
      " |-- ArrivalDtTm: timestamp (nullable = true)\n",
      " |-- CloseDtTm: timestamp (nullable = true)\n",
      " |-- City: string (nullable = true)\n",
      " |-- ZIPCode: string (nullable = true)\n",
      " |-- Battalion: string (nullable = true)\n",
      " |-- StationArea: string (nullable = true)\n",
      " |-- Box: string (nullable = true)\n",
      " |-- SuppressionUnits: integer (nullable = true)\n",
      " |-- SuppressionPersonnel: integer (nullable = true)\n",
      " |-- EMSUnits: integer (nullable = true)\n",
      " |-- EMSPersonnel: integer (nullable = true)\n",
      " |-- OtherUnits: integer (nullable = true)\n",
      " |-- OtherPersonnel: integer (nullable = true)\n",
      " |-- FirstUnitOnScene: string (nullable = true)\n",
      " |-- EstimatedPropertyLoss: integer (nullable = true)\n",
      " |-- EstimatedContentsLoss: double (nullable = true)\n",
      " |-- FireFatalities: integer (nullable = true)\n",
      " |-- FireInjuries: integer (nullable = true)\n",
      " |-- CivilianFatalities: integer (nullable = true)\n",
      " |-- CivilianInjuries: integer (nullable = true)\n",
      " |-- NumberofAlarms: integer (nullable = true)\n",
      " |-- PrimarySituation: string (nullable = true)\n",
      " |-- MutualAid: string (nullable = true)\n",
      " |-- ActionTakenPrimary: string (nullable = true)\n",
      " |-- ActionTakenSecondary: string (nullable = true)\n",
      " |-- ActionTakenOther: string (nullable = true)\n",
      " |-- DetectorAlertedOccupants: string (nullable = true)\n",
      " |-- PropertyUse: string (nullable = true)\n",
      " |-- AreaofFireOrigin: string (nullable = true)\n",
      " |-- IgnitionCause: string (nullable = true)\n",
      " |-- IgnitionFactorPrimary: string (nullable = true)\n",
      " |-- IgnitionFactorSecondary: string (nullable = true)\n",
      " |-- HeatSource: string (nullable = true)\n",
      " |-- ItemFirstIgnited: string (nullable = true)\n",
      " |-- HumanFactorsAssociatedwithIgnition: string (nullable = true)\n",
      " |-- StructureType: string (nullable = true)\n",
      " |-- StructureStatus: string (nullable = true)\n",
      " |-- FloorofFireOrigin: string (nullable = true)\n",
      " |-- FireSpread: string (nullable = true)\n",
      " |-- NoFlameSpead: string (nullable = true)\n",
      " |-- Numberoffloorswithminimumdamage: string (nullable = true)\n",
      " |-- Numberoffloorswithsignificantdamage: string (nullable = true)\n",
      " |-- Numberoffloorswithheavydamage: integer (nullable = true)\n",
      " |-- Numberoffloorswithextremedamage: integer (nullable = true)\n",
      " |-- DetectorsPresent: string (nullable = true)\n",
      " |-- DetectorType: string (nullable = true)\n",
      " |-- DetectorOperation: string (nullable = true)\n",
      " |-- DetectorEffectiveness: string (nullable = true)\n",
      " |-- DetectorFailureReason: string (nullable = true)\n",
      " |-- AutomaticExtinguishingSystemPresent: string (nullable = true)\n",
      " |-- AutomaticExtinguishingSytemType: string (nullable = true)\n",
      " |-- AutomaticExtinguishingSytemPerfomance: string (nullable = true)\n",
      " |-- AutomaticExtinguishingSytemFailureReason: string (nullable = true)\n",
      " |-- NumberofSprinklerHeadsOperating: string (nullable = true)\n",
      " |-- SupervisorDistrict: string (nullable = true)\n",
      " |-- AnalysisNeighborhood: string (nullable = true)\n",
      " |-- point: string (nullable = true)\n",
      " |-- NeighborhoodsOld: string (nullable = true)\n",
      " |-- ZipCodes: string (nullable = true)\n",
      " |-- FirePreventionDistricts: string (nullable = true)\n",
      " |-- PoliceDistricts: integer (nullable = true)\n",
      " |-- SupervisorDistricts: integer (nullable = true)\n",
      " |-- CivicCenterHarmReductionProjectBoundary: integer (nullable = true)\n",
      " |-- 2017FixItZones: integer (nullable = true)\n",
      " |-- HSOCZones: integer (nullable = true)\n",
      " |-- CentralMarketTenderloinBoundary: integer (nullable = true)\n",
      " |-- CentralMarketTenderloinBoundaryPolygonUpdated: integer (nullable = true)\n",
      " |-- HSOCZonesasof20180605: integer (nullable = true)\n",
      " |-- Neighborhoods: integer (nullable = true)\n",
      " |-- SFFindNeighborhoods: integer (nullable = true)\n",
      " |-- CurrentPoliceDistricts: integer (nullable = true)\n",
      " |-- CurrentSupervisorDistricts: integer (nullable = true)\n",
      " |-- AnalysisNeighborhoods: integer (nullable = true)\n",
      " |-- _c80: integer (nullable = true)\n",
      " |-- _c81: integer (nullable = true)\n",
      " |-- _c82: integer (nullable = true)\n",
      "\n"
     ]
    }
   ],
   "source": [
    "data.printSchema()"
   ]
  },
  {
   "cell_type": "code",
   "execution_count": 8,
   "id": "3f2fb834",
   "metadata": {},
   "outputs": [
    {
     "name": "stdout",
     "output_type": "stream",
     "text": [
      "+--------------+--------------------+-------------+\n",
      "|IncidentNumber|        IncidentDate|         City|\n",
      "+--------------+--------------------+-------------+\n",
      "|      20104668|2020-09-11T00:00:...|San Francisco|\n",
      "|      20104708|2020-09-11T00:00:...|San Francisco|\n",
      "|      20104648|2020-09-10T00:00:...|San Francisco|\n",
      "|      20104598|2020-09-10T00:00:...|San Francisco|\n",
      "|      20104575|2020-09-10T00:00:...|San Francisco|\n",
      "|      20104477|2020-09-10T00:00:...|San Francisco|\n",
      "|      20104443|2020-09-10T00:00:...|San Francisco|\n",
      "|      20104605|2020-09-10T00:00:...|San Francisco|\n",
      "|      20104474|2020-09-10T00:00:...|San Francisco|\n",
      "|      20104652|2020-09-10T00:00:...|San Francisco|\n",
      "+--------------+--------------------+-------------+\n",
      "only showing top 10 rows\n",
      "\n"
     ]
    }
   ],
   "source": [
    "data.select(\"IncidentNumber\",\"IncidentDate\",\"City\").show(10)"
   ]
  },
  {
   "cell_type": "markdown",
   "id": "5bbadc23",
   "metadata": {},
   "source": [
    "### The \"Select\" statement / function is referred to as a projection, where you project(select) the column that yourequire and spark will resolve at schema level soon after an action has been called"
   ]
  },
  {
   "cell_type": "code",
   "execution_count": 9,
   "id": "e2962742",
   "metadata": {},
   "outputs": [
    {
     "data": {
      "text/plain": [
       "['IncidentNumber',\n",
       " 'ExposureNumber',\n",
       " 'ID',\n",
       " 'Address',\n",
       " 'IncidentDate',\n",
       " 'CallNumber',\n",
       " 'AlarmDtTm',\n",
       " 'ArrivalDtTm',\n",
       " 'CloseDtTm',\n",
       " 'City',\n",
       " 'ZIPCode',\n",
       " 'Battalion',\n",
       " 'StationArea',\n",
       " 'Box',\n",
       " 'SuppressionUnits',\n",
       " 'SuppressionPersonnel',\n",
       " 'EMSUnits',\n",
       " 'EMSPersonnel',\n",
       " 'OtherUnits',\n",
       " 'OtherPersonnel',\n",
       " 'FirstUnitOnScene',\n",
       " 'EstimatedPropertyLoss',\n",
       " 'EstimatedContentsLoss',\n",
       " 'FireFatalities',\n",
       " 'FireInjuries',\n",
       " 'CivilianFatalities',\n",
       " 'CivilianInjuries',\n",
       " 'NumberofAlarms',\n",
       " 'PrimarySituation',\n",
       " 'MutualAid',\n",
       " 'ActionTakenPrimary',\n",
       " 'ActionTakenSecondary',\n",
       " 'ActionTakenOther',\n",
       " 'DetectorAlertedOccupants',\n",
       " 'PropertyUse',\n",
       " 'AreaofFireOrigin',\n",
       " 'IgnitionCause',\n",
       " 'IgnitionFactorPrimary',\n",
       " 'IgnitionFactorSecondary',\n",
       " 'HeatSource',\n",
       " 'ItemFirstIgnited',\n",
       " 'HumanFactorsAssociatedwithIgnition',\n",
       " 'StructureType',\n",
       " 'StructureStatus',\n",
       " 'FloorofFireOrigin',\n",
       " 'FireSpread',\n",
       " 'NoFlameSpead',\n",
       " 'Numberoffloorswithminimumdamage',\n",
       " 'Numberoffloorswithsignificantdamage',\n",
       " 'Numberoffloorswithheavydamage',\n",
       " 'Numberoffloorswithextremedamage',\n",
       " 'DetectorsPresent',\n",
       " 'DetectorType',\n",
       " 'DetectorOperation',\n",
       " 'DetectorEffectiveness',\n",
       " 'DetectorFailureReason',\n",
       " 'AutomaticExtinguishingSystemPresent',\n",
       " 'AutomaticExtinguishingSytemType',\n",
       " 'AutomaticExtinguishingSytemPerfomance',\n",
       " 'AutomaticExtinguishingSytemFailureReason',\n",
       " 'NumberofSprinklerHeadsOperating',\n",
       " 'SupervisorDistrict',\n",
       " 'AnalysisNeighborhood',\n",
       " 'point',\n",
       " 'NeighborhoodsOld',\n",
       " 'ZipCodes',\n",
       " 'FirePreventionDistricts',\n",
       " 'PoliceDistricts',\n",
       " 'SupervisorDistricts',\n",
       " 'CivicCenterHarmReductionProjectBoundary',\n",
       " '2017FixItZones',\n",
       " 'HSOCZones',\n",
       " 'CentralMarketTenderloinBoundary',\n",
       " 'CentralMarketTenderloinBoundaryPolygonUpdated',\n",
       " 'HSOCZonesasof20180605',\n",
       " 'Neighborhoods',\n",
       " 'SFFindNeighborhoods',\n",
       " 'CurrentPoliceDistricts',\n",
       " 'CurrentSupervisorDistricts',\n",
       " 'AnalysisNeighborhoods',\n",
       " '_c80',\n",
       " '_c81',\n",
       " '_c82']"
      ]
     },
     "execution_count": 9,
     "metadata": {},
     "output_type": "execute_result"
    }
   ],
   "source": [
    "data.columns"
   ]
  },
  {
   "cell_type": "code",
   "execution_count": 11,
   "id": "1dec845a",
   "metadata": {},
   "outputs": [],
   "source": [
    "output_path = '/home/shyam/NiceSoftwareSolutions/ApacheSpark3_for_Data_Engineering_and_Analytics_with_Python/Structured_API-Spark_DataFrame/output/fireincidents'"
   ]
  },
  {
   "cell_type": "code",
   "execution_count": 12,
   "id": "5f2d7a81",
   "metadata": {},
   "outputs": [],
   "source": [
    "data.write.format(\"parquet\").mode(\"overwrite\").save(output_path)"
   ]
  },
  {
   "cell_type": "code",
   "execution_count": null,
   "id": "6ce32d07",
   "metadata": {},
   "outputs": [],
   "source": []
  }
 ],
 "metadata": {
  "kernelspec": {
   "display_name": "Python 3",
   "language": "python",
   "name": "python3"
  },
  "language_info": {
   "codemirror_mode": {
    "name": "ipython",
    "version": 3
   },
   "file_extension": ".py",
   "mimetype": "text/x-python",
   "name": "python",
   "nbconvert_exporter": "python",
   "pygments_lexer": "ipython3",
   "version": "3.8.5"
  }
 },
 "nbformat": 4,
 "nbformat_minor": 5
}
