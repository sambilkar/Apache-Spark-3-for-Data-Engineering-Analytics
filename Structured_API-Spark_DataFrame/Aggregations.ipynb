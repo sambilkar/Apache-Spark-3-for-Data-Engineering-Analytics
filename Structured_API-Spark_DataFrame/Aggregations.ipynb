{
 "cells": [
  {
   "cell_type": "markdown",
   "id": "2ce303f9",
   "metadata": {},
   "source": [
    "# Aggregations"
   ]
  },
  {
   "cell_type": "markdown",
   "id": "d8973e0f",
   "metadata": {},
   "source": [
    "1. Performing Analytics usually involve aggregations to summarize data\n",
    "2. Aggregation usually require some form of grouping of an entire dataset or one or more data columns\n",
    "3. Spark Provides commonly used aggregation functions such as SUM, MAX, AVG, COUNT etc."
   ]
  },
  {
   "cell_type": "code",
   "execution_count": 1,
   "id": "ee997a83",
   "metadata": {},
   "outputs": [],
   "source": [
    "from pyspark.sql import SparkSession"
   ]
  },
  {
   "cell_type": "code",
   "execution_count": 2,
   "id": "49262a85",
   "metadata": {},
   "outputs": [],
   "source": [
    "spark = SparkSession.builder.appName(\"aggregation\").getOrCreate()"
   ]
  },
  {
   "cell_type": "code",
   "execution_count": 3,
   "id": "e628cca4",
   "metadata": {},
   "outputs": [],
   "source": [
    "flight_summary_df = spark.read.csv(\"flight-summary.csv\",inferSchema=True, header=True)"
   ]
  },
  {
   "cell_type": "code",
   "execution_count": 4,
   "id": "04e2f719",
   "metadata": {},
   "outputs": [
    {
     "data": {
      "text/plain": [
       "4693"
      ]
     },
     "execution_count": 4,
     "metadata": {},
     "output_type": "execute_result"
    }
   ],
   "source": [
    "flight_summary_df.count()"
   ]
  },
  {
   "cell_type": "code",
   "execution_count": 5,
   "id": "864c5652",
   "metadata": {},
   "outputs": [
    {
     "name": "stdout",
     "output_type": "stream",
     "text": [
      "+-----------+------------------------------------------------+------------+------------+---------+--------------------------------------------+----------------+----------+-----+\n",
      "|origin_code|origin_airport                                  |origin_city |origin_state|dest_code|dest_airport                                |dest_city       |dest_state|count|\n",
      "+-----------+------------------------------------------------+------------+------------+---------+--------------------------------------------+----------------+----------+-----+\n",
      "|BQN        |Rafael Hernández Airport                        |Aguadilla   |PR          |MCO      |Orlando International Airport               |Orlando         |FL        |441  |\n",
      "|PHL        |Philadelphia International Airport              |Philadelphia|PA          |MCO      |Orlando International Airport               |Orlando         |FL        |4869 |\n",
      "|MCI        |Kansas City International Airport               |Kansas City |MO          |IAH      |George Bush Intercontinental Airport        |Houston         |TX        |1698 |\n",
      "|SPI        |Abraham Lincoln Capital Airport                 |Springfield |IL          |ORD      |Chicago O'Hare International Airport        |Chicago         |IL        |998  |\n",
      "|SNA        |John Wayne Airport (Orange County Airport)      |Santa Ana   |CA          |PHX      |Phoenix Sky Harbor International Airport    |Phoenix         |AZ        |3846 |\n",
      "|LBB        |Lubbock Preston Smith International Airport     |Lubbock     |TX          |DEN      |Denver International Airport                |Denver          |CO        |618  |\n",
      "|ORD        |Chicago O'Hare International Airport            |Chicago     |IL          |PDX      |Portland International Airport              |Portland        |OR        |2149 |\n",
      "|EWR        |Newark Liberty International Airport            |Newark      |NJ          |STT      |Cyril E. King Airport                       |Charlotte Amalie|VI        |239  |\n",
      "|ATL        |Hartsfield-Jackson Atlanta International Airport|Atlanta     |GA          |GSP      |Greenville-Spartanburg International Airport|Greer           |SC        |2470 |\n",
      "|MCI        |Kansas City International Airport               |Kansas City |MO          |MKE      |General Mitchell International Airport      |Milwaukee       |WI        |612  |\n",
      "+-----------+------------------------------------------------+------------+------------+---------+--------------------------------------------+----------------+----------+-----+\n",
      "only showing top 10 rows\n",
      "\n"
     ]
    }
   ],
   "source": [
    "flight_summary_df.show(10, False)"
   ]
  },
  {
   "cell_type": "code",
   "execution_count": 6,
   "id": "8cbdc687",
   "metadata": {},
   "outputs": [
    {
     "name": "stdout",
     "output_type": "stream",
     "text": [
      "root\n",
      " |-- origin_code: string (nullable = true)\n",
      " |-- origin_airport: string (nullable = true)\n",
      " |-- origin_city: string (nullable = true)\n",
      " |-- origin_state: string (nullable = true)\n",
      " |-- dest_code: string (nullable = true)\n",
      " |-- dest_airport: string (nullable = true)\n",
      " |-- dest_city: string (nullable = true)\n",
      " |-- dest_state: string (nullable = true)\n",
      " |-- count: integer (nullable = true)\n",
      "\n"
     ]
    }
   ],
   "source": [
    "flight_summary_df.printSchema()"
   ]
  },
  {
   "cell_type": "code",
   "execution_count": 7,
   "id": "860e483b",
   "metadata": {},
   "outputs": [],
   "source": [
    "flight_summary_df = flight_summary_df.withColumnRenamed(\"count\",\"flight_count\")"
   ]
  },
  {
   "cell_type": "code",
   "execution_count": 8,
   "id": "295f1741",
   "metadata": {},
   "outputs": [
    {
     "name": "stdout",
     "output_type": "stream",
     "text": [
      "+-----------+------------------------------------------------+------------+------------+---------+--------------------------------------------+----------------+----------+------------+\n",
      "|origin_code|origin_airport                                  |origin_city |origin_state|dest_code|dest_airport                                |dest_city       |dest_state|flight_count|\n",
      "+-----------+------------------------------------------------+------------+------------+---------+--------------------------------------------+----------------+----------+------------+\n",
      "|BQN        |Rafael Hernández Airport                        |Aguadilla   |PR          |MCO      |Orlando International Airport               |Orlando         |FL        |441         |\n",
      "|PHL        |Philadelphia International Airport              |Philadelphia|PA          |MCO      |Orlando International Airport               |Orlando         |FL        |4869        |\n",
      "|MCI        |Kansas City International Airport               |Kansas City |MO          |IAH      |George Bush Intercontinental Airport        |Houston         |TX        |1698        |\n",
      "|SPI        |Abraham Lincoln Capital Airport                 |Springfield |IL          |ORD      |Chicago O'Hare International Airport        |Chicago         |IL        |998         |\n",
      "|SNA        |John Wayne Airport (Orange County Airport)      |Santa Ana   |CA          |PHX      |Phoenix Sky Harbor International Airport    |Phoenix         |AZ        |3846        |\n",
      "|LBB        |Lubbock Preston Smith International Airport     |Lubbock     |TX          |DEN      |Denver International Airport                |Denver          |CO        |618         |\n",
      "|ORD        |Chicago O'Hare International Airport            |Chicago     |IL          |PDX      |Portland International Airport              |Portland        |OR        |2149        |\n",
      "|EWR        |Newark Liberty International Airport            |Newark      |NJ          |STT      |Cyril E. King Airport                       |Charlotte Amalie|VI        |239         |\n",
      "|ATL        |Hartsfield-Jackson Atlanta International Airport|Atlanta     |GA          |GSP      |Greenville-Spartanburg International Airport|Greer           |SC        |2470        |\n",
      "|MCI        |Kansas City International Airport               |Kansas City |MO          |MKE      |General Mitchell International Airport      |Milwaukee       |WI        |612         |\n",
      "+-----------+------------------------------------------------+------------+------------+---------+--------------------------------------------+----------------+----------+------------+\n",
      "only showing top 10 rows\n",
      "\n"
     ]
    }
   ],
   "source": [
    "flight_summary_df.show(10, False)"
   ]
  },
  {
   "cell_type": "markdown",
   "id": "77b034d3",
   "metadata": {},
   "source": [
    "### Let's learn to use the count and CountDistict aggregation Functions"
   ]
  },
  {
   "cell_type": "markdown",
   "id": "ddaf8d3c",
   "metadata": {},
   "source": [
    "### Count(col) and countDistinct"
   ]
  },
  {
   "cell_type": "code",
   "execution_count": 9,
   "id": "a1d29478",
   "metadata": {},
   "outputs": [],
   "source": [
    "from pyspark.sql.functions import count, countDistinct"
   ]
  },
  {
   "cell_type": "code",
   "execution_count": 10,
   "id": "46832756",
   "metadata": {},
   "outputs": [
    {
     "name": "stdout",
     "output_type": "stream",
     "text": [
      "+---------------------+-------------------+\n",
      "|count(origin_airport)|count(dest_airport)|\n",
      "+---------------------+-------------------+\n",
      "|                 4693|               4693|\n",
      "+---------------------+-------------------+\n",
      "\n"
     ]
    }
   ],
   "source": [
    "flight_summary_df.select(count(\"origin_airport\"),count(\"dest_airport\")).show()"
   ]
  },
  {
   "cell_type": "code",
   "execution_count": 11,
   "id": "14b566e5",
   "metadata": {},
   "outputs": [
    {
     "ename": "NameError",
     "evalue": "name 'bad_movies_df' is not defined",
     "output_type": "error",
     "traceback": [
      "\u001b[0;31m---------------------------------------------------------------------------\u001b[0m",
      "\u001b[0;31mNameError\u001b[0m                                 Traceback (most recent call last)",
      "\u001b[0;32m<ipython-input-11-fd1fa1919514>\u001b[0m in \u001b[0;36m<module>\u001b[0;34m\u001b[0m\n\u001b[0;32m----> 1\u001b[0;31m \u001b[0mbad_movies_df\u001b[0m\u001b[0;34m.\u001b[0m\u001b[0mshow\u001b[0m\u001b[0;34m(\u001b[0m\u001b[0;34m)\u001b[0m\u001b[0;34m\u001b[0m\u001b[0;34m\u001b[0m\u001b[0m\n\u001b[0m",
      "\u001b[0;31mNameError\u001b[0m: name 'bad_movies_df' is not defined"
     ]
    }
   ],
   "source": [
    "bad_movies_df.show()"
   ]
  },
  {
   "cell_type": "code",
   "execution_count": null,
   "id": "605e8736",
   "metadata": {},
   "outputs": [],
   "source": []
  }
 ],
 "metadata": {
  "kernelspec": {
   "display_name": "Python 3",
   "language": "python",
   "name": "python3"
  },
  "language_info": {
   "codemirror_mode": {
    "name": "ipython",
    "version": 3
   },
   "file_extension": ".py",
   "mimetype": "text/x-python",
   "name": "python",
   "nbconvert_exporter": "python",
   "pygments_lexer": "ipython3",
   "version": "3.8.5"
  }
 },
 "nbformat": 4,
 "nbformat_minor": 5
}
