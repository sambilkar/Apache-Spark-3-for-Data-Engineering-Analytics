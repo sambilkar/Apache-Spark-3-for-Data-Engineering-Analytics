{
 "cells": [
  {
   "cell_type": "markdown",
   "id": "a7924ac1",
   "metadata": {},
   "source": [
    "# Challenge_Part_I"
   ]
  },
  {
   "cell_type": "markdown",
   "id": "92762e09",
   "metadata": {},
   "source": [
    "Step1. Import Spark Libraries\n",
    "    you need import appropriate spark libraries, create new session, create Schema, and also create CSV File\n",
    "    \n",
    "Step2. Create Spark Session [call spark app]\n",
    "    \n",
    "Step3. Create A Heading: Data Preparation\n",
    "\n",
    "Step4. Create a Schema\n",
    "\n",
    "Step5. Read A CSV File\n",
    "\n",
    "Step6. Print the first 10 Records\n",
    "\n",
    "Step7. Print the Schema Details"
   ]
  },
  {
   "cell_type": "markdown",
   "id": "74798938",
   "metadata": {},
   "source": [
    "# Data Preparation"
   ]
  },
  {
   "cell_type": "markdown",
   "id": "39ebf976",
   "metadata": {},
   "source": [
    "Let's tackle the first challenge"
   ]
  },
  {
   "cell_type": "code",
   "execution_count": 1,
   "id": "406856f2",
   "metadata": {},
   "outputs": [],
   "source": [
    "from pyspark.sql import SparkSession"
   ]
  },
  {
   "cell_type": "code",
   "execution_count": 2,
   "id": "74fdffcc",
   "metadata": {},
   "outputs": [],
   "source": [
    "from pyspark.sql.types import StructType, StructField, StringType"
   ]
  },
  {
   "cell_type": "code",
   "execution_count": 3,
   "id": "4c454e05",
   "metadata": {},
   "outputs": [],
   "source": [
    "spark = SparkSession.builder.appName(\"SalesAnalytics\").getOrCreate()"
   ]
  },
  {
   "cell_type": "code",
   "execution_count": 7,
   "id": "ede5287b",
   "metadata": {},
   "outputs": [],
   "source": [
    "schema = StructType([\n",
    "    StructField(\"Order ID\", StringType(), True),\n",
    "    StructField(\"Product\", StringType(), True),\n",
    "    StructField(\"Quantity Ordered\", StringType(), True),\n",
    "    StructField(\"Price Each\", StringType(), True),\n",
    "    StructField(\"Order Date\", StringType(), True),\n",
    "    StructField(\"Purchase Address\", StringType(), True)\n",
    "])"
   ]
  },
  {
   "cell_type": "code",
   "execution_count": 16,
   "id": "592a2f61",
   "metadata": {},
   "outputs": [],
   "source": [
    "sales_data_fpath = \"/home/shyam/NiceSoftwareSolutions/ApacheSpark3_for_Data_Engineering_and_Analytics_with_Python/Structured_API-Spark_DataFrame/salesdata\""
   ]
  },
  {
   "cell_type": "code",
   "execution_count": 17,
   "id": "8c2293aa",
   "metadata": {},
   "outputs": [],
   "source": [
    "sales_raw_df = (spark.read.format(\"csv\")\n",
    "               .option(\"header\",True)\n",
    "               .schema(schema)\n",
    "               .load(sales_data_fpath))"
   ]
  },
  {
   "cell_type": "code",
   "execution_count": 18,
   "id": "dccc4353",
   "metadata": {},
   "outputs": [
    {
     "name": "stdout",
     "output_type": "stream",
     "text": [
      "+--------+--------------------+----------------+----------+--------------+--------------------+\n",
      "|Order ID|             Product|Quantity Ordered|Price Each|    Order Date|    Purchase Address|\n",
      "+--------+--------------------+----------------+----------+--------------+--------------------+\n",
      "|  295665|  Macbook Pro Laptop|               1|      1700|12/30/19 00:01|136 Church St, Ne...|\n",
      "|  295666|  LG Washing Machine|               1|     600.0|12/29/19 07:03|562 2nd St, New Y...|\n",
      "|  295667|USB-C Charging Cable|               1|     11.95|12/12/19 18:21|277 Main St, New ...|\n",
      "|  295668|    27in FHD Monitor|               1|    149.99|12/22/19 15:13|410 6th St, San F...|\n",
      "|  295669|USB-C Charging Cable|               1|     11.95|12/18/19 12:38|43 Hill St, Atlan...|\n",
      "|  295670|AA Batteries (4-p...|               1|      3.84|12/31/19 22:58|200 Jefferson St,...|\n",
      "|  295671|USB-C Charging Cable|               1|     11.95|12/16/19 15:10|928 12th St, Port...|\n",
      "|  295672|USB-C Charging Cable|               2|     11.95|12/13/19 09:29|813 Hickory St, D...|\n",
      "|  295673|Bose SoundSport H...|               1|     99.99|12/15/19 23:26|718 Wilson St, Da...|\n",
      "|  295674|AAA Batteries (4-...|               4|      2.99|12/28/19 11:51|77 7th St, Dallas...|\n",
      "+--------+--------------------+----------------+----------+--------------+--------------------+\n",
      "only showing top 10 rows\n",
      "\n"
     ]
    }
   ],
   "source": [
    "sales_raw_df.show(10)"
   ]
  },
  {
   "cell_type": "code",
   "execution_count": 19,
   "id": "d5aed40f",
   "metadata": {},
   "outputs": [
    {
     "name": "stdout",
     "output_type": "stream",
     "text": [
      "root\n",
      " |-- Order ID: string (nullable = true)\n",
      " |-- Product: string (nullable = true)\n",
      " |-- Quantity Ordered: string (nullable = true)\n",
      " |-- Price Each: string (nullable = true)\n",
      " |-- Order Date: string (nullable = true)\n",
      " |-- Purchase Address: string (nullable = true)\n",
      "\n"
     ]
    }
   ],
   "source": [
    "sales_raw_df.printSchema()"
   ]
  },
  {
   "cell_type": "markdown",
   "id": "43af913c",
   "metadata": {},
   "source": [
    "# Working with Structured operations\n",
    "\n",
    "1. Columns and Expressions\n",
    "2. Filter and Where Conditions\n",
    "3. Distinct, Drop Duplicates, Order By\n",
    "4. Rows and Union\n",
    "5. Adding, Renaming, Dropping Columns\n",
    "6. Working with Missing or Bad Data\n",
    "7. User Defined Functions"
   ]
  },
  {
   "cell_type": "markdown",
   "id": "3cbadfd6",
   "metadata": {},
   "source": [
    "### spark is not designed to work on a single node computer your bound to experience weired errors"
   ]
  },
  {
   "cell_type": "code",
   "execution_count": null,
   "id": "8565171c",
   "metadata": {},
   "outputs": [],
   "source": []
  }
 ],
 "metadata": {
  "kernelspec": {
   "display_name": "Python 3",
   "language": "python",
   "name": "python3"
  },
  "language_info": {
   "codemirror_mode": {
    "name": "ipython",
    "version": 3
   },
   "file_extension": ".py",
   "mimetype": "text/x-python",
   "name": "python",
   "nbconvert_exporter": "python",
   "pygments_lexer": "ipython3",
   "version": "3.8.5"
  }
 },
 "nbformat": 4,
 "nbformat_minor": 5
}
