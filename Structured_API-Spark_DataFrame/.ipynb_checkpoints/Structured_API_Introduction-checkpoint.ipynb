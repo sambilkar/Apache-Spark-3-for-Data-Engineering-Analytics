{
 "cells": [
  {
   "cell_type": "markdown",
   "id": "1befbc18",
   "metadata": {},
   "source": [
    "# Spark Structured APIs\n",
    "\n",
    "1. Released as of Spark version 1.3 to address faster adoption and also ease of use as compared to the RDD API.\n",
    "2. API = Application Programmers Interface (A set of libraries that you can import onto your python projects)"
   ]
  },
  {
   "cell_type": "markdown",
   "id": "8d5a23a3",
   "metadata": {},
   "source": [
    "### DataFrame and Dataset API\n",
    "\n",
    "The dataset API does not have support for python\n",
    "\n",
    "The dataset API is a collection of strongly typed JVM(Java Virtual Machine)data objects in \n",
    "Scala and classes in Java:\n",
    "\n",
    "\n",
    "\n",
    "Typed objects enforces a Data Type.\n",
    "i.e. the code;\n",
    "float avg_age =3.5\n",
    "avg_age = \"I love Cricket\" //will cause an error\n",
    "\n",
    "Untyped objects does not enforce a Data Type.\n",
    "i.e. the code;\n",
    "avg_age =3.5\n",
    "avg_age  = \"I love Cricket\" // will not cause an error\n",
    "\n",
    "The DataFrame is an Untyped API that has support for Python and Scala"
   ]
  },
  {
   "cell_type": "markdown",
   "id": "f7ee46c1",
   "metadata": {},
   "source": [
    "### DataFrame and Dataset API\n",
    "1. The DataFrame accounts for readable English like code which resemble SQL\n",
    "2. The DataFrame allows you to have a structured presentation of your data into rows and columns lie database tables.\n",
    "3. The DataFrame allows you to assign a schema to solve the data integrity problem."
   ]
  },
  {
   "cell_type": "code",
   "execution_count": null,
   "id": "fcc1fa84",
   "metadata": {},
   "outputs": [],
   "source": []
  }
 ],
 "metadata": {
  "kernelspec": {
   "display_name": "Python 3",
   "language": "python",
   "name": "python3"
  },
  "language_info": {
   "codemirror_mode": {
    "name": "ipython",
    "version": 3
   },
   "file_extension": ".py",
   "mimetype": "text/x-python",
   "name": "python",
   "nbconvert_exporter": "python",
   "pygments_lexer": "ipython3",
   "version": "3.8.5"
  }
 },
 "nbformat": 4,
 "nbformat_minor": 5
}
