{
 "cells": [
  {
   "cell_type": "markdown",
   "id": "2e70ae89",
   "metadata": {},
   "source": [
    "# Challenge Part III"
   ]
  },
  {
   "cell_type": "markdown",
   "id": "5f37a809",
   "metadata": {},
   "source": [
    "1. Read 2019 Data from Parquet File Directory\n",
    "2. What was the best month sales?\n",
    "3. What city sold most products?\n",
    "4. What time should we display advertisements to maximize the likelihood of customer's buying products?\n",
    "5. What Products are often sold together in the state \"NY\"?"
   ]
  },
  {
   "cell_type": "markdown",
   "id": "c6ff6587",
   "metadata": {},
   "source": [
    "# Challenge Part III - Praparing Data\n",
    "Let's prepare 2019 data and also moudularize out programs"
   ]
  },
  {
   "cell_type": "code",
   "execution_count": 1,
   "id": "f08ec81a",
   "metadata": {},
   "outputs": [],
   "source": [
    "from pyspark.sql import SparkSession"
   ]
  },
  {
   "cell_type": "code",
   "execution_count": 2,
   "id": "134b59d3",
   "metadata": {},
   "outputs": [],
   "source": [
    "from pyspark.sql.types import StructType, StructField, StringType"
   ]
  },
  {
   "cell_type": "code",
   "execution_count": 3,
   "id": "395355d7",
   "metadata": {},
   "outputs": [],
   "source": [
    "spark = SparkSession.builder.appName(\"SalesAnalytics\").getOrCreate()"
   ]
  },
  {
   "cell_type": "markdown",
   "id": "385a03ce",
   "metadata": {},
   "source": [
    "# Read 2019 Data from Parquet Files Directory"
   ]
  },
  {
   "cell_type": "code",
   "execution_count": 4,
   "id": "de78dac2",
   "metadata": {},
   "outputs": [],
   "source": [
    "source_data_path = \"/home/shyam/NiceSoftwareSolutions/ApacheSpark3_for_Data_Engineering_and_Analytics_with_Python/Structured_API-Spark_DataFrame/output/sales/\""
   ]
  },
  {
   "cell_type": "code",
   "execution_count": 5,
   "id": "d73ec2b4",
   "metadata": {},
   "outputs": [],
   "source": [
    "partition =\"ReportYear=2019\""
   ]
  },
  {
   "cell_type": "code",
   "execution_count": 6,
   "id": "55cb25e3",
   "metadata": {},
   "outputs": [],
   "source": [
    "full_path = f\"{source_data_path}{partition}\""
   ]
  },
  {
   "cell_type": "code",
   "execution_count": 7,
   "id": "7760cbbc",
   "metadata": {},
   "outputs": [
    {
     "name": "stdout",
     "output_type": "stream",
     "text": [
      "+-------+--------------------------+--------+------+-------------------+---------------------------------------+--------------+-----+-----+\n",
      "|OrderID|product                   |Quantity|Price |OrderDate          |StoreAddress                           |City          |State|Month|\n",
      "+-------+--------------------------+--------+------+-------------------+---------------------------------------+--------------+-----+-----+\n",
      "|295778 |AA Batteries (4-pack)     |1       |3.84  |2019-12-08 21:09:00|820 Adams St, San Francisco, CA 94016  | San Francisco|CA   |12   |\n",
      "|296047 |AAA Batteries (4-pack)    |2       |2.99  |2019-12-02 18:09:00|433 4th St, Los Angeles, CA 90001      | Los Angeles  |CA   |12   |\n",
      "|296233 |AA Batteries (4-pack)     |1       |3.84  |2019-12-05 15:49:00|444 8th St, Los Angeles, CA 90001      | Los Angeles  |CA   |12   |\n",
      "|296603 |AAA Batteries (4-pack)    |1       |2.99  |2019-12-02 20:21:00|665 10th St, San Francisco, CA 94016   | San Francisco|CA   |12   |\n",
      "|296639 |27in FHD Monitor          |1       |149.99|2019-12-25 11:35:00|860 7th St, New York City, NY 10001    | New York City|NY   |12   |\n",
      "|296749 |34in Ultrawide Monitor    |1       |379.99|2019-12-05 21:21:00|570 Adams St, Seattle, WA 98101        | Seattle      |WA   |12   |\n",
      "|296810 |Wired Headphones          |1       |11.99 |2019-12-10 17:31:00|517 Park St, Boston, MA 02215          | Boston       |MA   |12   |\n",
      "|297143 |Apple Airpods Headphones  |1       |150.0 |2019-12-05 08:34:00|625 Lincoln St, San Francisco, CA 94016| San Francisco|CA   |12   |\n",
      "|297288 |AA Batteries (4-pack)     |2       |3.84  |2019-12-31 23:16:00|914 Madison St, San Francisco, CA 94016| San Francisco|CA   |12   |\n",
      "|297311 |Bose SoundSport Headphones|1       |99.99 |2019-12-07 07:30:00|858 Willow St, Los Angeles, CA 90001   | Los Angeles  |CA   |12   |\n",
      "+-------+--------------------------+--------+------+-------------------+---------------------------------------+--------------+-----+-----+\n",
      "only showing top 10 rows\n",
      "\n"
     ]
    }
   ],
   "source": [
    "sales2019_df = spark.read.parquet(full_path)\n",
    "sales2019_df.show(10,truncate=False)"
   ]
  },
  {
   "cell_type": "markdown",
   "id": "4749ad81",
   "metadata": {},
   "source": [
    "# Q1. Get the Best Sales Month"
   ]
  },
  {
   "cell_type": "markdown",
   "id": "069368ed",
   "metadata": {},
   "source": [
    "### what was the best month in sales?"
   ]
  },
  {
   "cell_type": "code",
   "execution_count": 8,
   "id": "b3c3642f",
   "metadata": {},
   "outputs": [],
   "source": [
    "import pandas as pd \n",
    "import matplotlib.pyplot as plt\n",
    "import seaborn as sns\n",
    "from pyspark.sql.functions import round, sum, col, expr"
   ]
  },
  {
   "cell_type": "code",
   "execution_count": 9,
   "id": "3c1e5f8f",
   "metadata": {},
   "outputs": [],
   "source": [
    "sales_q1_df = sales2019_df.select(col(\"OrderID\"),\n",
    "                                 col(\"Month\"),\n",
    "                                 col(\"Price\"),\n",
    "                                 col(\"Quantity\"),\n",
    "                                 expr(\"Price * Quantity\").alias(\"Sales\"))"
   ]
  },
  {
   "cell_type": "code",
   "execution_count": 10,
   "id": "890b6781",
   "metadata": {},
   "outputs": [
    {
     "name": "stdout",
     "output_type": "stream",
     "text": [
      "+-------+-----+------+--------+------+\n",
      "|OrderID|Month| Price|Quantity| Sales|\n",
      "+-------+-----+------+--------+------+\n",
      "| 295778|   12|  3.84|       1|  3.84|\n",
      "| 296047|   12|  2.99|       2|  5.98|\n",
      "| 296233|   12|  3.84|       1|  3.84|\n",
      "| 296603|   12|  2.99|       1|  2.99|\n",
      "| 296639|   12|149.99|       1|149.99|\n",
      "| 296749|   12|379.99|       1|379.99|\n",
      "| 296810|   12| 11.99|       1| 11.99|\n",
      "| 297143|   12| 150.0|       1| 150.0|\n",
      "| 297288|   12|  3.84|       2|  7.68|\n",
      "| 297311|   12| 99.99|       1| 99.99|\n",
      "+-------+-----+------+--------+------+\n",
      "only showing top 10 rows\n",
      "\n"
     ]
    }
   ],
   "source": [
    "sales_q1_df.show(10)"
   ]
  },
  {
   "cell_type": "code",
   "execution_count": 11,
   "id": "b07cd51f",
   "metadata": {},
   "outputs": [],
   "source": [
    "sales_q1_df = sales_q1_df.groupBy(\"Month\").agg(round(sum(\"Sales\"),2).alias(\"TotalSales\")).orderBy(\"TotalSales\",ascending=False)"
   ]
  },
  {
   "cell_type": "code",
   "execution_count": 12,
   "id": "4b3b67d3",
   "metadata": {},
   "outputs": [
    {
     "name": "stdout",
     "output_type": "stream",
     "text": [
      "+-----+----------+\n",
      "|Month|TotalSales|\n",
      "+-----+----------+\n",
      "|   12|4608295.68|\n",
      "|   10|3734777.84|\n",
      "|    4|3389217.96|\n",
      "|   11|3197875.03|\n",
      "|    5|3150616.21|\n",
      "|    3|2804973.34|\n",
      "|    7|2646461.31|\n",
      "|    6|2576280.14|\n",
      "|    8|2241083.36|\n",
      "|    2|2200078.07|\n",
      "+-----+----------+\n",
      "only showing top 10 rows\n",
      "\n"
     ]
    }
   ],
   "source": [
    "sales_q1_df.show(10)"
   ]
  },
  {
   "cell_type": "code",
   "execution_count": 13,
   "id": "945ac7c4",
   "metadata": {},
   "outputs": [],
   "source": [
    "pd_sales_q1 = sales_q1_df.orderBy(\"Month\").toPandas()"
   ]
  },
  {
   "cell_type": "code",
   "execution_count": 14,
   "id": "138666bb",
   "metadata": {},
   "outputs": [
    {
     "data": {
      "text/html": [
       "<div>\n",
       "<style scoped>\n",
       "    .dataframe tbody tr th:only-of-type {\n",
       "        vertical-align: middle;\n",
       "    }\n",
       "\n",
       "    .dataframe tbody tr th {\n",
       "        vertical-align: top;\n",
       "    }\n",
       "\n",
       "    .dataframe thead th {\n",
       "        text-align: right;\n",
       "    }\n",
       "</style>\n",
       "<table border=\"1\" class=\"dataframe\">\n",
       "  <thead>\n",
       "    <tr style=\"text-align: right;\">\n",
       "      <th></th>\n",
       "      <th>Month</th>\n",
       "      <th>TotalSales</th>\n",
       "    </tr>\n",
       "  </thead>\n",
       "  <tbody>\n",
       "    <tr>\n",
       "      <th>0</th>\n",
       "      <td>1</td>\n",
       "      <td>1812742.86</td>\n",
       "    </tr>\n",
       "    <tr>\n",
       "      <th>1</th>\n",
       "      <td>2</td>\n",
       "      <td>2200078.07</td>\n",
       "    </tr>\n",
       "    <tr>\n",
       "      <th>2</th>\n",
       "      <td>3</td>\n",
       "      <td>2804973.34</td>\n",
       "    </tr>\n",
       "    <tr>\n",
       "      <th>3</th>\n",
       "      <td>4</td>\n",
       "      <td>3389217.96</td>\n",
       "    </tr>\n",
       "    <tr>\n",
       "      <th>4</th>\n",
       "      <td>5</td>\n",
       "      <td>3150616.21</td>\n",
       "    </tr>\n",
       "    <tr>\n",
       "      <th>5</th>\n",
       "      <td>6</td>\n",
       "      <td>2576280.14</td>\n",
       "    </tr>\n",
       "    <tr>\n",
       "      <th>6</th>\n",
       "      <td>7</td>\n",
       "      <td>2646461.31</td>\n",
       "    </tr>\n",
       "    <tr>\n",
       "      <th>7</th>\n",
       "      <td>8</td>\n",
       "      <td>2241083.36</td>\n",
       "    </tr>\n",
       "    <tr>\n",
       "      <th>8</th>\n",
       "      <td>9</td>\n",
       "      <td>2094465.68</td>\n",
       "    </tr>\n",
       "    <tr>\n",
       "      <th>9</th>\n",
       "      <td>10</td>\n",
       "      <td>3734777.84</td>\n",
       "    </tr>\n",
       "    <tr>\n",
       "      <th>10</th>\n",
       "      <td>11</td>\n",
       "      <td>3197875.03</td>\n",
       "    </tr>\n",
       "    <tr>\n",
       "      <th>11</th>\n",
       "      <td>12</td>\n",
       "      <td>4608295.68</td>\n",
       "    </tr>\n",
       "  </tbody>\n",
       "</table>\n",
       "</div>"
      ],
      "text/plain": [
       "    Month  TotalSales\n",
       "0       1  1812742.86\n",
       "1       2  2200078.07\n",
       "2       3  2804973.34\n",
       "3       4  3389217.96\n",
       "4       5  3150616.21\n",
       "5       6  2576280.14\n",
       "6       7  2646461.31\n",
       "7       8  2241083.36\n",
       "8       9  2094465.68\n",
       "9      10  3734777.84\n",
       "10     11  3197875.03\n",
       "11     12  4608295.68"
      ]
     },
     "execution_count": 14,
     "metadata": {},
     "output_type": "execute_result"
    }
   ],
   "source": [
    "pd_sales_q1"
   ]
  },
  {
   "cell_type": "code",
   "execution_count": 15,
   "id": "e4f3c0b3",
   "metadata": {},
   "outputs": [
    {
     "data": {
      "image/png": "[encoded data removed]",
      "text/plain": [
       "<Figure size 720x432 with 1 Axes>"
      ]
     },
     "metadata": {
      "needs_background": "light"
     },
     "output_type": "display_data"
    }
   ],
   "source": [
    "plt.figure(figsize=(10,6))\n",
    "plt.ticklabel_format(useOffset=False,style=\"plain\")\n",
    "sns.set_theme(style=\"whitegrid\")\n",
    "sns.barplot(x=\"Month\", y=\"TotalSales\", data=pd_sales_q1).set_title(\"Total Sales Per Month\")\n",
    "plt.ylabel(\"Total Sales\")\n",
    "plt.show()"
   ]
  },
  {
   "cell_type": "markdown",
   "id": "77725a55",
   "metadata": {},
   "source": [
    "# Q2. What city sold most products?"
   ]
  },
  {
   "cell_type": "code",
   "execution_count": 16,
   "id": "db419f27",
   "metadata": {},
   "outputs": [
    {
     "name": "stdout",
     "output_type": "stream",
     "text": [
      "+-------+--------------------+--------+------+-------------------+--------------------+--------------+-----+-----+\n",
      "|OrderID|             product|Quantity| Price|          OrderDate|        StoreAddress|          City|State|Month|\n",
      "+-------+--------------------+--------+------+-------------------+--------------------+--------------+-----+-----+\n",
      "| 295778|AA Batteries (4-p...|       1|  3.84|2019-12-08 21:09:00|820 Adams St, San...| San Francisco|   CA|   12|\n",
      "| 296047|AAA Batteries (4-...|       2|  2.99|2019-12-02 18:09:00|433 4th St, Los A...|   Los Angeles|   CA|   12|\n",
      "| 296233|AA Batteries (4-p...|       1|  3.84|2019-12-05 15:49:00|444 8th St, Los A...|   Los Angeles|   CA|   12|\n",
      "| 296603|AAA Batteries (4-...|       1|  2.99|2019-12-02 20:21:00|665 10th St, San ...| San Francisco|   CA|   12|\n",
      "| 296639|    27in FHD Monitor|       1|149.99|2019-12-25 11:35:00|860 7th St, New Y...| New York City|   NY|   12|\n",
      "| 296749|34in Ultrawide Mo...|       1|379.99|2019-12-05 21:21:00|570 Adams St, Sea...|       Seattle|   WA|   12|\n",
      "| 296810|    Wired Headphones|       1| 11.99|2019-12-10 17:31:00|517 Park St, Bost...|        Boston|   MA|   12|\n",
      "| 297143|Apple Airpods Hea...|       1| 150.0|2019-12-05 08:34:00|625 Lincoln St, S...| San Francisco|   CA|   12|\n",
      "| 297288|AA Batteries (4-p...|       2|  3.84|2019-12-31 23:16:00|914 Madison St, S...| San Francisco|   CA|   12|\n",
      "| 297311|Bose SoundSport H...|       1| 99.99|2019-12-07 07:30:00|858 Willow St, Lo...|   Los Angeles|   CA|   12|\n",
      "+-------+--------------------+--------+------+-------------------+--------------------+--------------+-----+-----+\n",
      "only showing top 10 rows\n",
      "\n"
     ]
    }
   ],
   "source": [
    "sales2019_df.show(10)"
   ]
  },
  {
   "cell_type": "code",
   "execution_count": 17,
   "id": "44f3028f",
   "metadata": {},
   "outputs": [
    {
     "name": "stdout",
     "output_type": "stream",
     "text": [
      "+-------+--------+--------------+\n",
      "|OrderID|Quantity|          City|\n",
      "+-------+--------+--------------+\n",
      "| 295778|       1| San Francisco|\n",
      "| 296047|       2|   Los Angeles|\n",
      "| 296233|       1|   Los Angeles|\n",
      "| 296603|       1| San Francisco|\n",
      "| 296639|       1| New York City|\n",
      "| 296749|       1|       Seattle|\n",
      "| 296810|       1|        Boston|\n",
      "| 297143|       1| San Francisco|\n",
      "| 297288|       2| San Francisco|\n",
      "| 297311|       1|   Los Angeles|\n",
      "| 297531|       1|        Boston|\n",
      "| 297537|       1|      Portland|\n",
      "| 297999|       1| San Francisco|\n",
      "| 298321|       1| New York City|\n",
      "| 298578|       2| New York City|\n",
      "| 298774|       1|        Boston|\n",
      "| 298853|       1|   Los Angeles|\n",
      "| 298971|       1| New York City|\n",
      "| 299990|       1|        Dallas|\n",
      "| 300048|       1| New York City|\n",
      "+-------+--------+--------------+\n",
      "only showing top 20 rows\n",
      "\n"
     ]
    }
   ],
   "source": [
    "sales2019_df.select(\"OrderID\",\"Quantity\",\"City\").show()"
   ]
  },
  {
   "cell_type": "code",
   "execution_count": 18,
   "id": "566b3b3a",
   "metadata": {},
   "outputs": [],
   "source": [
    "sales_q2_df = sales2019_df.groupBy(\"City\").agg(sum(\"quantity\").alias(\"TotalProducts\")).orderBy(\"TotalProducts\",ascending=False)"
   ]
  },
  {
   "cell_type": "code",
   "execution_count": 19,
   "id": "a8940220",
   "metadata": {},
   "outputs": [
    {
     "name": "stdout",
     "output_type": "stream",
     "text": [
      "+--------------+-------------+\n",
      "|          City|TotalProducts|\n",
      "+--------------+-------------+\n",
      "| San Francisco|        50156|\n",
      "|   Los Angeles|        33246|\n",
      "| New York City|        27887|\n",
      "|        Boston|        22490|\n",
      "|        Dallas|        16705|\n",
      "|       Atlanta|        16584|\n",
      "|       Seattle|        16533|\n",
      "|      Portland|        14035|\n",
      "|        Austin|        11135|\n",
      "+--------------+-------------+\n",
      "\n"
     ]
    }
   ],
   "source": [
    "sales_q2_df.show(10)"
   ]
  },
  {
   "cell_type": "code",
   "execution_count": 20,
   "id": "3ed24515",
   "metadata": {},
   "outputs": [],
   "source": [
    "pd_sales_q2 = sales_q2_df.toPandas()"
   ]
  },
  {
   "cell_type": "code",
   "execution_count": 21,
   "id": "4a69dce7",
   "metadata": {},
   "outputs": [
    {
     "data": {
      "text/html": [
       "<div>\n",
       "<style scoped>\n",
       "    .dataframe tbody tr th:only-of-type {\n",
       "        vertical-align: middle;\n",
       "    }\n",
       "\n",
       "    .dataframe tbody tr th {\n",
       "        vertical-align: top;\n",
       "    }\n",
       "\n",
       "    .dataframe thead th {\n",
       "        text-align: right;\n",
       "    }\n",
       "</style>\n",
       "<table border=\"1\" class=\"dataframe\">\n",
       "  <thead>\n",
       "    <tr style=\"text-align: right;\">\n",
       "      <th></th>\n",
       "      <th>City</th>\n",
       "      <th>TotalProducts</th>\n",
       "    </tr>\n",
       "  </thead>\n",
       "  <tbody>\n",
       "    <tr>\n",
       "      <th>0</th>\n",
       "      <td>San Francisco</td>\n",
       "      <td>50156</td>\n",
       "    </tr>\n",
       "    <tr>\n",
       "      <th>1</th>\n",
       "      <td>Los Angeles</td>\n",
       "      <td>33246</td>\n",
       "    </tr>\n",
       "    <tr>\n",
       "      <th>2</th>\n",
       "      <td>New York City</td>\n",
       "      <td>27887</td>\n",
       "    </tr>\n",
       "    <tr>\n",
       "      <th>3</th>\n",
       "      <td>Boston</td>\n",
       "      <td>22490</td>\n",
       "    </tr>\n",
       "    <tr>\n",
       "      <th>4</th>\n",
       "      <td>Dallas</td>\n",
       "      <td>16705</td>\n",
       "    </tr>\n",
       "    <tr>\n",
       "      <th>5</th>\n",
       "      <td>Atlanta</td>\n",
       "      <td>16584</td>\n",
       "    </tr>\n",
       "    <tr>\n",
       "      <th>6</th>\n",
       "      <td>Seattle</td>\n",
       "      <td>16533</td>\n",
       "    </tr>\n",
       "    <tr>\n",
       "      <th>7</th>\n",
       "      <td>Portland</td>\n",
       "      <td>14035</td>\n",
       "    </tr>\n",
       "    <tr>\n",
       "      <th>8</th>\n",
       "      <td>Austin</td>\n",
       "      <td>11135</td>\n",
       "    </tr>\n",
       "  </tbody>\n",
       "</table>\n",
       "</div>"
      ],
      "text/plain": [
       "             City  TotalProducts\n",
       "0   San Francisco          50156\n",
       "1     Los Angeles          33246\n",
       "2   New York City          27887\n",
       "3          Boston          22490\n",
       "4          Dallas          16705\n",
       "5         Atlanta          16584\n",
       "6         Seattle          16533\n",
       "7        Portland          14035\n",
       "8          Austin          11135"
      ]
     },
     "execution_count": 21,
     "metadata": {},
     "output_type": "execute_result"
    }
   ],
   "source": [
    "pd_sales_q2"
   ]
  },
  {
   "cell_type": "code",
   "execution_count": 22,
   "id": "0d16d757",
   "metadata": {},
   "outputs": [
    {
     "data": {
      "image/png": "[encoded data removed]",
      "text/plain": [
       "<Figure size 720x432 with 1 Axes>"
      ]
     },
     "metadata": {},
     "output_type": "display_data"
    }
   ],
   "source": [
    "plt.figure(figsize=(10,6))\n",
    "plt.ticklabel_format(useOffset=False,style=\"plain\")\n",
    "sns.set_theme(style=\"darkgrid\")\n",
    "sns.barplot(x=\"TotalProducts\", y=\"City\", data=pd_sales_q2).set_title(\"Total Products Sales Per City\")\n",
    "plt.ylabel(\"Total Products\")\n",
    "plt.show()"
   ]
  },
  {
   "cell_type": "markdown",
   "id": "39712ef1",
   "metadata": {},
   "source": [
    "# Q3. When to Advertise"
   ]
  },
  {
   "cell_type": "markdown",
   "id": "b2a0d2e9",
   "metadata": {},
   "source": [
    "###  What time should we display advertisements to maximize the likelihood of customer's buying products?"
   ]
  },
  {
   "cell_type": "code",
   "execution_count": 23,
   "id": "c7c823bf",
   "metadata": {},
   "outputs": [],
   "source": [
    "from pyspark.sql.functions import count, date_format"
   ]
  },
  {
   "cell_type": "code",
   "execution_count": 24,
   "id": "bf623ba1",
   "metadata": {},
   "outputs": [
    {
     "name": "stdout",
     "output_type": "stream",
     "text": [
      "+-------+--------------------------+--------+------+-------------------+---------------------------------------+--------------+-----+-----+\n",
      "|OrderID|product                   |Quantity|Price |OrderDate          |StoreAddress                           |City          |State|Month|\n",
      "+-------+--------------------------+--------+------+-------------------+---------------------------------------+--------------+-----+-----+\n",
      "|295778 |AA Batteries (4-pack)     |1       |3.84  |2019-12-08 21:09:00|820 Adams St, San Francisco, CA 94016  | San Francisco|CA   |12   |\n",
      "|296047 |AAA Batteries (4-pack)    |2       |2.99  |2019-12-02 18:09:00|433 4th St, Los Angeles, CA 90001      | Los Angeles  |CA   |12   |\n",
      "|296233 |AA Batteries (4-pack)     |1       |3.84  |2019-12-05 15:49:00|444 8th St, Los Angeles, CA 90001      | Los Angeles  |CA   |12   |\n",
      "|296603 |AAA Batteries (4-pack)    |1       |2.99  |2019-12-02 20:21:00|665 10th St, San Francisco, CA 94016   | San Francisco|CA   |12   |\n",
      "|296639 |27in FHD Monitor          |1       |149.99|2019-12-25 11:35:00|860 7th St, New York City, NY 10001    | New York City|NY   |12   |\n",
      "|296749 |34in Ultrawide Monitor    |1       |379.99|2019-12-05 21:21:00|570 Adams St, Seattle, WA 98101        | Seattle      |WA   |12   |\n",
      "|296810 |Wired Headphones          |1       |11.99 |2019-12-10 17:31:00|517 Park St, Boston, MA 02215          | Boston       |MA   |12   |\n",
      "|297143 |Apple Airpods Headphones  |1       |150.0 |2019-12-05 08:34:00|625 Lincoln St, San Francisco, CA 94016| San Francisco|CA   |12   |\n",
      "|297288 |AA Batteries (4-pack)     |2       |3.84  |2019-12-31 23:16:00|914 Madison St, San Francisco, CA 94016| San Francisco|CA   |12   |\n",
      "|297311 |Bose SoundSport Headphones|1       |99.99 |2019-12-07 07:30:00|858 Willow St, Los Angeles, CA 90001   | Los Angeles  |CA   |12   |\n",
      "+-------+--------------------------+--------+------+-------------------+---------------------------------------+--------------+-----+-----+\n",
      "only showing top 10 rows\n",
      "\n"
     ]
    }
   ],
   "source": [
    "sales2019_df.show(10, False)"
   ]
  },
  {
   "cell_type": "code",
   "execution_count": 25,
   "id": "f6050eb8",
   "metadata": {},
   "outputs": [
    {
     "name": "stdout",
     "output_type": "stream",
     "text": [
      "+-------+-----+\n",
      "|OrderID|count|\n",
      "+-------+-----+\n",
      "|304276 |2    |\n",
      "|300601 |2    |\n",
      "|310188 |2    |\n",
      "|261569 |2    |\n",
      "|188122 |2    |\n",
      "|277349 |2    |\n",
      "|269251 |2    |\n",
      "|276515 |2    |\n",
      "|265863 |2    |\n",
      "|187647 |2    |\n",
      "+-------+-----+\n",
      "only showing top 10 rows\n",
      "\n"
     ]
    }
   ],
   "source": [
    "sales2019_df.groupBy(\"OrderID\").agg(count(\"OrderID\").alias(\"count\")).where(col(\"count\") > 1).show(10, False)"
   ]
  },
  {
   "cell_type": "code",
   "execution_count": 26,
   "id": "410cfdbe",
   "metadata": {},
   "outputs": [
    {
     "name": "stdout",
     "output_type": "stream",
     "text": [
      "+-------+---------------+--------+------+-------------------+-----------------------------------+--------------+-----+-----+\n",
      "|OrderID|product        |Quantity|Price |OrderDate          |StoreAddress                       |City          |State|Month|\n",
      "+-------+---------------+--------+------+-------------------+-----------------------------------+--------------+-----+-----+\n",
      "|304276 |ThinkPad Laptop|1       |999.99|2019-12-15 06:07:00|358 5th St, New York City, NY 10001| New York City|NY   |12   |\n",
      "|304276 |iPhone         |1       |700.0 |2019-12-15 06:07:00|358 5th St, New York City, NY 10001| New York City|NY   |12   |\n",
      "+-------+---------------+--------+------+-------------------+-----------------------------------+--------------+-----+-----+\n",
      "\n"
     ]
    }
   ],
   "source": [
    "sales2019_df.filter(col(\"OrderID\") == 304276).show(truncate=False)"
   ]
  },
  {
   "cell_type": "code",
   "execution_count": 27,
   "id": "f22263fc",
   "metadata": {},
   "outputs": [],
   "source": [
    "sales_q3_df = sales2019_df.select(\"OrderID\",date_format(\"OrderDate\",\"HH\").cast('int').alias(\"Hour\")).distinct().groupBy(\"Hour\").agg(count(\"Hour\").alias(\"TotalOrders\")).orderBy(col(\"TotalOrders\"),ascending=False)"
   ]
  },
  {
   "cell_type": "code",
   "execution_count": 28,
   "id": "a3214527",
   "metadata": {},
   "outputs": [
    {
     "name": "stdout",
     "output_type": "stream",
     "text": [
      "+----+-----------+\n",
      "|Hour|TotalOrders|\n",
      "+----+-----------+\n",
      "|  19|      12377|\n",
      "|  12|      12082|\n",
      "|  11|      11882|\n",
      "|  20|      11763|\n",
      "|  18|      11761|\n",
      "|  13|      11682|\n",
      "|  14|      10522|\n",
      "|  21|      10499|\n",
      "|  10|      10492|\n",
      "|  17|      10476|\n",
      "|  16|       9960|\n",
      "|  15|       9761|\n",
      "|  22|       8453|\n",
      "|   9|       8404|\n",
      "|   8|       6036|\n",
      "|  23|       5990|\n",
      "|   7|       3836|\n",
      "|   0|       3748|\n",
      "|   6|       2375|\n",
      "|   1|       2246|\n",
      "+----+-----------+\n",
      "only showing top 20 rows\n",
      "\n"
     ]
    }
   ],
   "source": [
    "sales_q3_df.show()"
   ]
  },
  {
   "cell_type": "code",
   "execution_count": 29,
   "id": "28dd392c",
   "metadata": {},
   "outputs": [],
   "source": [
    "pd_sales_q3 = sales_q3_df.orderBy(\"Hour\").toPandas()"
   ]
  },
  {
   "cell_type": "code",
   "execution_count": 30,
   "id": "c2680db1",
   "metadata": {},
   "outputs": [
    {
     "data": {
      "text/html": [
       "<div>\n",
       "<style scoped>\n",
       "    .dataframe tbody tr th:only-of-type {\n",
       "        vertical-align: middle;\n",
       "    }\n",
       "\n",
       "    .dataframe tbody tr th {\n",
       "        vertical-align: top;\n",
       "    }\n",
       "\n",
       "    .dataframe thead th {\n",
       "        text-align: right;\n",
       "    }\n",
       "</style>\n",
       "<table border=\"1\" class=\"dataframe\">\n",
       "  <thead>\n",
       "    <tr style=\"text-align: right;\">\n",
       "      <th></th>\n",
       "      <th>Hour</th>\n",
       "      <th>TotalOrders</th>\n",
       "    </tr>\n",
       "  </thead>\n",
       "  <tbody>\n",
       "    <tr>\n",
       "      <th>0</th>\n",
       "      <td>0</td>\n",
       "      <td>3748</td>\n",
       "    </tr>\n",
       "    <tr>\n",
       "      <th>1</th>\n",
       "      <td>1</td>\n",
       "      <td>2246</td>\n",
       "    </tr>\n",
       "    <tr>\n",
       "      <th>2</th>\n",
       "      <td>2</td>\n",
       "      <td>1192</td>\n",
       "    </tr>\n",
       "    <tr>\n",
       "      <th>3</th>\n",
       "      <td>3</td>\n",
       "      <td>801</td>\n",
       "    </tr>\n",
       "    <tr>\n",
       "      <th>4</th>\n",
       "      <td>4</td>\n",
       "      <td>810</td>\n",
       "    </tr>\n",
       "    <tr>\n",
       "      <th>5</th>\n",
       "      <td>5</td>\n",
       "      <td>1258</td>\n",
       "    </tr>\n",
       "    <tr>\n",
       "      <th>6</th>\n",
       "      <td>6</td>\n",
       "      <td>2375</td>\n",
       "    </tr>\n",
       "    <tr>\n",
       "      <th>7</th>\n",
       "      <td>7</td>\n",
       "      <td>3836</td>\n",
       "    </tr>\n",
       "    <tr>\n",
       "      <th>8</th>\n",
       "      <td>8</td>\n",
       "      <td>6036</td>\n",
       "    </tr>\n",
       "    <tr>\n",
       "      <th>9</th>\n",
       "      <td>9</td>\n",
       "      <td>8404</td>\n",
       "    </tr>\n",
       "    <tr>\n",
       "      <th>10</th>\n",
       "      <td>10</td>\n",
       "      <td>10492</td>\n",
       "    </tr>\n",
       "    <tr>\n",
       "      <th>11</th>\n",
       "      <td>11</td>\n",
       "      <td>11882</td>\n",
       "    </tr>\n",
       "    <tr>\n",
       "      <th>12</th>\n",
       "      <td>12</td>\n",
       "      <td>12082</td>\n",
       "    </tr>\n",
       "    <tr>\n",
       "      <th>13</th>\n",
       "      <td>13</td>\n",
       "      <td>11682</td>\n",
       "    </tr>\n",
       "    <tr>\n",
       "      <th>14</th>\n",
       "      <td>14</td>\n",
       "      <td>10522</td>\n",
       "    </tr>\n",
       "    <tr>\n",
       "      <th>15</th>\n",
       "      <td>15</td>\n",
       "      <td>9761</td>\n",
       "    </tr>\n",
       "    <tr>\n",
       "      <th>16</th>\n",
       "      <td>16</td>\n",
       "      <td>9960</td>\n",
       "    </tr>\n",
       "    <tr>\n",
       "      <th>17</th>\n",
       "      <td>17</td>\n",
       "      <td>10476</td>\n",
       "    </tr>\n",
       "    <tr>\n",
       "      <th>18</th>\n",
       "      <td>18</td>\n",
       "      <td>11761</td>\n",
       "    </tr>\n",
       "    <tr>\n",
       "      <th>19</th>\n",
       "      <td>19</td>\n",
       "      <td>12377</td>\n",
       "    </tr>\n",
       "    <tr>\n",
       "      <th>20</th>\n",
       "      <td>20</td>\n",
       "      <td>11763</td>\n",
       "    </tr>\n",
       "    <tr>\n",
       "      <th>21</th>\n",
       "      <td>21</td>\n",
       "      <td>10499</td>\n",
       "    </tr>\n",
       "    <tr>\n",
       "      <th>22</th>\n",
       "      <td>22</td>\n",
       "      <td>8453</td>\n",
       "    </tr>\n",
       "    <tr>\n",
       "      <th>23</th>\n",
       "      <td>23</td>\n",
       "      <td>5990</td>\n",
       "    </tr>\n",
       "  </tbody>\n",
       "</table>\n",
       "</div>"
      ],
      "text/plain": [
       "    Hour  TotalOrders\n",
       "0      0         3748\n",
       "1      1         2246\n",
       "2      2         1192\n",
       "3      3          801\n",
       "4      4          810\n",
       "5      5         1258\n",
       "6      6         2375\n",
       "7      7         3836\n",
       "8      8         6036\n",
       "9      9         8404\n",
       "10    10        10492\n",
       "11    11        11882\n",
       "12    12        12082\n",
       "13    13        11682\n",
       "14    14        10522\n",
       "15    15         9761\n",
       "16    16         9960\n",
       "17    17        10476\n",
       "18    18        11761\n",
       "19    19        12377\n",
       "20    20        11763\n",
       "21    21        10499\n",
       "22    22         8453\n",
       "23    23         5990"
      ]
     },
     "execution_count": 30,
     "metadata": {},
     "output_type": "execute_result"
    }
   ],
   "source": [
    "pd_sales_q3"
   ]
  },
  {
   "cell_type": "code",
   "execution_count": 31,
   "id": "e68e09e8",
   "metadata": {},
   "outputs": [
    {
     "data": {
      "image/png": "[encoded data removed]",
      "text/plain": [
       "<Figure size 720x432 with 1 Axes>"
      ]
     },
     "metadata": {},
     "output_type": "display_data"
    }
   ],
   "source": [
    "plt.figure(figsize=(10,6))\n",
    "plt.ticklabel_format(useOffset=False,style=\"plain\")\n",
    "sns.set_theme(style=\"whitegrid\")\n",
    "sns.lineplot(x=\"Hour\", y=\"TotalOrders\", data=pd_sales_q3)\n",
    "plt.ylabel(\"Total Orders\")\n",
    "plt.show()"
   ]
  },
  {
   "cell_type": "markdown",
   "id": "d03561ae",
   "metadata": {},
   "source": [
    "# Q4. Products Bought Together"
   ]
  },
  {
   "cell_type": "markdown",
   "id": "c2373525",
   "metadata": {},
   "source": [
    "### What products are often sold together in the state of NY?"
   ]
  },
  {
   "cell_type": "markdown",
   "id": "fc269781",
   "metadata": {},
   "source": [
    "lets show each order with a list of products in one line"
   ]
  },
  {
   "cell_type": "code",
   "execution_count": 32,
   "id": "cde6607d",
   "metadata": {},
   "outputs": [],
   "source": [
    "from pyspark.sql.functions import collect_list, size"
   ]
  },
  {
   "cell_type": "code",
   "execution_count": 33,
   "id": "4db58601",
   "metadata": {},
   "outputs": [
    {
     "name": "stdout",
     "output_type": "stream",
     "text": [
      "+-------+--------------------+--------+------+-------------------+--------------------+--------------+-----+-----+\n",
      "|OrderID|             product|Quantity| Price|          OrderDate|        StoreAddress|          City|State|Month|\n",
      "+-------+--------------------+--------+------+-------------------+--------------------+--------------+-----+-----+\n",
      "| 295778|AA Batteries (4-p...|       1|  3.84|2019-12-08 21:09:00|820 Adams St, San...| San Francisco|   CA|   12|\n",
      "| 296047|AAA Batteries (4-...|       2|  2.99|2019-12-02 18:09:00|433 4th St, Los A...|   Los Angeles|   CA|   12|\n",
      "| 296233|AA Batteries (4-p...|       1|  3.84|2019-12-05 15:49:00|444 8th St, Los A...|   Los Angeles|   CA|   12|\n",
      "| 296603|AAA Batteries (4-...|       1|  2.99|2019-12-02 20:21:00|665 10th St, San ...| San Francisco|   CA|   12|\n",
      "| 296639|    27in FHD Monitor|       1|149.99|2019-12-25 11:35:00|860 7th St, New Y...| New York City|   NY|   12|\n",
      "| 296749|34in Ultrawide Mo...|       1|379.99|2019-12-05 21:21:00|570 Adams St, Sea...|       Seattle|   WA|   12|\n",
      "| 296810|    Wired Headphones|       1| 11.99|2019-12-10 17:31:00|517 Park St, Bost...|        Boston|   MA|   12|\n",
      "| 297143|Apple Airpods Hea...|       1| 150.0|2019-12-05 08:34:00|625 Lincoln St, S...| San Francisco|   CA|   12|\n",
      "| 297288|AA Batteries (4-p...|       2|  3.84|2019-12-31 23:16:00|914 Madison St, S...| San Francisco|   CA|   12|\n",
      "| 297311|Bose SoundSport H...|       1| 99.99|2019-12-07 07:30:00|858 Willow St, Lo...|   Los Angeles|   CA|   12|\n",
      "| 297531|              iPhone|       1| 700.0|2019-12-19 06:57:00|161 Walnut St, Bo...|        Boston|   MA|   12|\n",
      "| 297537|Apple Airpods Hea...|       1| 150.0|2019-12-23 19:24:00|61 Wilson St, Por...|      Portland|   OR|   12|\n",
      "| 297999|USB-C Charging Cable|       1| 11.95|2019-12-01 17:51:00|990 14th St, San ...| San Francisco|   CA|   12|\n",
      "| 298321|USB-C Charging Cable|       1| 11.95|2019-12-21 05:58:00|183 Spruce St, Ne...| New York City|   NY|   12|\n",
      "| 298578|AA Batteries (4-p...|       2|  3.84|2019-12-18 18:58:00|348 Hill St, New ...| New York City|   NY|   12|\n",
      "| 298774|AAA Batteries (4-...|       1|  2.99|2019-12-13 16:21:00|235 11th St, Bost...|        Boston|   MA|   12|\n",
      "| 298853|       Flatscreen TV|       1| 300.0|2019-12-15 07:27:00|541 Washington St...|   Los Angeles|   CA|   12|\n",
      "| 298971|USB-C Charging Cable|       1| 11.95|2019-12-27 08:34:00|565 Cherry St, Ne...| New York City|   NY|   12|\n",
      "| 299990|       Flatscreen TV|       1| 300.0|2019-12-04 15:52:00|785 Church St, Da...|        Dallas|   TX|   12|\n",
      "| 300048|  Macbook Pro Laptop|       1|1700.0|2019-12-04 16:17:00|450 Jackson St, N...| New York City|   NY|   12|\n",
      "+-------+--------------------+--------+------+-------------------+--------------------+--------------+-----+-----+\n",
      "only showing top 20 rows\n",
      "\n"
     ]
    }
   ],
   "source": [
    "sales2019_df.show()"
   ]
  },
  {
   "cell_type": "code",
   "execution_count": 34,
   "id": "c55f353b",
   "metadata": {},
   "outputs": [],
   "source": [
    "sales_q4_df = sales2019_df.where(col(\"state\") == 'NY').orderBy(\"OrderID\",\"Product\").groupBy(\"OrderID\",\"State\").agg(collect_list(\"Product\").alias(\"ProductList\"))"
   ]
  },
  {
   "cell_type": "code",
   "execution_count": 35,
   "id": "d99e1a3a",
   "metadata": {},
   "outputs": [
    {
     "name": "stdout",
     "output_type": "stream",
     "text": [
      "+-------+-----+------------------------------------------------+\n",
      "|OrderID|State|ProductList                                     |\n",
      "+-------+-----+------------------------------------------------+\n",
      "|141851 |NY   |[27in FHD Monitor]                              |\n",
      "|142149 |NY   |[AA Batteries (4-pack)]                         |\n",
      "|142787 |NY   |[Lightning Charging Cable]                      |\n",
      "|143020 |NY   |[ThinkPad Laptop]                               |\n",
      "|143862 |NY   |[Apple Airpods Headphones]                      |\n",
      "|144151 |NY   |[LG Dryer]                                      |\n",
      "|144851 |NY   |[Apple Airpods Headphones, USB-C Charging Cable]|\n",
      "|146589 |NY   |[Wired Headphones]                              |\n",
      "|147784 |NY   |[AAA Batteries (4-pack)]                        |\n",
      "|148099 |NY   |[27in 4K Gaming Monitor]                        |\n",
      "+-------+-----+------------------------------------------------+\n",
      "only showing top 10 rows\n",
      "\n"
     ]
    }
   ],
   "source": [
    "sales_q4_df.show(10, truncate=False)"
   ]
  },
  {
   "cell_type": "code",
   "execution_count": 36,
   "id": "675a4732",
   "metadata": {},
   "outputs": [],
   "source": [
    "sales_q4_df = sales_q4_df.withColumn(\"ProductListSize\",size(\"ProductList\"))"
   ]
  },
  {
   "cell_type": "code",
   "execution_count": 37,
   "id": "aae2bbb8",
   "metadata": {},
   "outputs": [
    {
     "name": "stdout",
     "output_type": "stream",
     "text": [
      "+-------+-----+----------------------------------------+---------------+\n",
      "|OrderID|State|ProductList                             |ProductListSize|\n",
      "+-------+-----+----------------------------------------+---------------+\n",
      "|253929 |NY   |[20in Monitor, 27in 4K Gaming Monitor]  |2              |\n",
      "|248053 |NY   |[20in Monitor, AA Batteries (4-pack)]   |2              |\n",
      "|197004 |NY   |[20in Monitor, AA Batteries (4-pack)]   |2              |\n",
      "|158102 |NY   |[20in Monitor, AA Batteries (4-pack)]   |2              |\n",
      "|266247 |NY   |[20in Monitor, AA Batteries (4-pack)]   |2              |\n",
      "|194762 |NY   |[20in Monitor, AAA Batteries (4-pack)]  |2              |\n",
      "|245465 |NY   |[20in Monitor, AAA Batteries (4-pack)]  |2              |\n",
      "|176251 |NY   |[20in Monitor, AAA Batteries (4-pack)]  |2              |\n",
      "|204645 |NY   |[20in Monitor, Apple Airpods Headphones]|2              |\n",
      "|234956 |NY   |[20in Monitor, Apple Airpods Headphones]|2              |\n",
      "+-------+-----+----------------------------------------+---------------+\n",
      "only showing top 10 rows\n",
      "\n"
     ]
    }
   ],
   "source": [
    "sales_q4_df.filter(col(\"ProductListSize\") > 1).orderBy(\"ProductList\").show(10, truncate=False)"
   ]
  },
  {
   "cell_type": "code",
   "execution_count": 38,
   "id": "e61337c7",
   "metadata": {},
   "outputs": [
    {
     "name": "stdout",
     "output_type": "stream",
     "text": [
      "+-------------------------------------------------+-----+\n",
      "|ProductList                                      |count|\n",
      "+-------------------------------------------------+-----+\n",
      "|[Google Phone, USB-C Charging Cable]             |127  |\n",
      "|[Lightning Charging Cable, iPhone]               |126  |\n",
      "|[Google Phone, Wired Headphones]                 |53   |\n",
      "|[USB-C Charging Cable, Vareebadd Phone]          |50   |\n",
      "|[Wired Headphones, iPhone]                       |46   |\n",
      "|[Apple Airpods Headphones, iPhone]               |45   |\n",
      "|[Bose SoundSport Headphones, Google Phone]       |24   |\n",
      "|[Apple Airpods Headphones, Wired Headphones]     |19   |\n",
      "|[Vareebadd Phone, Wired Headphones]              |17   |\n",
      "|[AA Batteries (4-pack), Lightning Charging Cable]|16   |\n",
      "+-------------------------------------------------+-----+\n",
      "only showing top 10 rows\n",
      "\n"
     ]
    }
   ],
   "source": [
    "sales_q4_df.filter(col(\"ProductListSize\") > 1).groupBy(\"ProductList\").count().orderBy(\"count\",ascending=False).show(10,truncate=False)"
   ]
  },
  {
   "cell_type": "markdown",
   "id": "d4982c79",
   "metadata": {},
   "source": [
    "## Finish !!!"
   ]
  },
  {
   "cell_type": "code",
   "execution_count": null,
   "id": "3ff4cd0d",
   "metadata": {},
   "outputs": [],
   "source": []
  }
 ],
 "metadata": {
  "kernelspec": {
   "display_name": "Python 3",
   "language": "python",
   "name": "python3"
  },
  "language_info": {
   "codemirror_mode": {
    "name": "ipython",
    "version": 3
   },
   "file_extension": ".py",
   "mimetype": "text/x-python",
   "name": "python",
   "nbconvert_exporter": "python",
   "pygments_lexer": "ipython3",
   "version": "3.8.5"
  }
 },
 "nbformat": 4,
 "nbformat_minor": 5
}
