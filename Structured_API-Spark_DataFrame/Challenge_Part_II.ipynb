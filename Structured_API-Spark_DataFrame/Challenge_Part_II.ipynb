{
 "cells": [
  {
   "cell_type": "markdown",
   "id": "92501bf1",
   "metadata": {},
   "source": [
    "# Challenge Part II - Data Prepartion and Cleansing"
   ]
  },
  {
   "cell_type": "markdown",
   "id": "daf97753",
   "metadata": {},
   "source": [
    "you ar required to prepare and clean the data\n",
    "Remove Bad Records\n",
    "If you query the records from the sales dataframe, you would find bad data \n",
    "1. Remove Bad Records\n",
    "2. Extract City and State form Address into New Columns\n",
    "3. Rename and Change DataTypes of DataFrame\n",
    "4. Add New Columns: Report Year and Month\n",
    "5. Find and Remove Rows with \"any\" null columns\n",
    "6. Write Final DataFrame to Parquet\n",
    "\n",
    "with data frame to parquet directory \"data/output/sales\" partitioned by ReportYear and Month\n"
   ]
  },
  {
   "cell_type": "code",
   "execution_count": 1,
   "id": "c92debaa",
   "metadata": {},
   "outputs": [],
   "source": [
    "from pyspark.sql import SparkSession"
   ]
  },
  {
   "cell_type": "code",
   "execution_count": 2,
   "id": "56b432d7",
   "metadata": {},
   "outputs": [],
   "source": [
    "from pyspark.sql.types import StructType, StructField, StringType"
   ]
  },
  {
   "cell_type": "code",
   "execution_count": 3,
   "id": "2ad4b153",
   "metadata": {},
   "outputs": [],
   "source": [
    "spark = SparkSession.builder.appName(\"SalesAnalytics\").getOrCreate()"
   ]
  },
  {
   "cell_type": "code",
   "execution_count": 4,
   "id": "e8d46412",
   "metadata": {},
   "outputs": [],
   "source": [
    "schema = StructType([\n",
    "    StructField(\"Order ID\", StringType(), True),\n",
    "    StructField(\"Product\", StringType(), True),\n",
    "    StructField(\"Quantity Ordered\", StringType(), True),\n",
    "    StructField(\"Price Each\", StringType(), True),\n",
    "    StructField(\"Order Date\", StringType(), True),\n",
    "    StructField(\"Purchase Address\", StringType(), True)\n",
    "])"
   ]
  },
  {
   "cell_type": "code",
   "execution_count": 5,
   "id": "e8eadb23",
   "metadata": {},
   "outputs": [],
   "source": [
    "sales_data_fpath = \"/home/shyam/NiceSoftwareSolutions/ApacheSpark3_for_Data_Engineering_and_Analytics_with_Python/Structured_API-Spark_DataFrame/salesdata\""
   ]
  },
  {
   "cell_type": "code",
   "execution_count": 6,
   "id": "1e6484c5",
   "metadata": {},
   "outputs": [],
   "source": [
    "sales_raw_df = (spark.read.format(\"csv\")\n",
    "               .option(\"header\",True)\n",
    "               .schema(schema)\n",
    "               .load(sales_data_fpath))"
   ]
  },
  {
   "cell_type": "code",
   "execution_count": 7,
   "id": "81a4ed81",
   "metadata": {},
   "outputs": [
    {
     "name": "stdout",
     "output_type": "stream",
     "text": [
      "+--------+--------------------+----------------+----------+--------------+--------------------+\n",
      "|Order ID|             Product|Quantity Ordered|Price Each|    Order Date|    Purchase Address|\n",
      "+--------+--------------------+----------------+----------+--------------+--------------------+\n",
      "|  295665|  Macbook Pro Laptop|               1|      1700|12/30/19 00:01|136 Church St, Ne...|\n",
      "|  295666|  LG Washing Machine|               1|     600.0|12/29/19 07:03|562 2nd St, New Y...|\n",
      "|  295667|USB-C Charging Cable|               1|     11.95|12/12/19 18:21|277 Main St, New ...|\n",
      "|  295668|    27in FHD Monitor|               1|    149.99|12/22/19 15:13|410 6th St, San F...|\n",
      "|  295669|USB-C Charging Cable|               1|     11.95|12/18/19 12:38|43 Hill St, Atlan...|\n",
      "|  295670|AA Batteries (4-p...|               1|      3.84|12/31/19 22:58|200 Jefferson St,...|\n",
      "|  295671|USB-C Charging Cable|               1|     11.95|12/16/19 15:10|928 12th St, Port...|\n",
      "|  295672|USB-C Charging Cable|               2|     11.95|12/13/19 09:29|813 Hickory St, D...|\n",
      "|  295673|Bose SoundSport H...|               1|     99.99|12/15/19 23:26|718 Wilson St, Da...|\n",
      "|  295674|AAA Batteries (4-...|               4|      2.99|12/28/19 11:51|77 7th St, Dallas...|\n",
      "+--------+--------------------+----------------+----------+--------------+--------------------+\n",
      "only showing top 10 rows\n",
      "\n"
     ]
    }
   ],
   "source": [
    "sales_raw_df.show(10)"
   ]
  },
  {
   "cell_type": "code",
   "execution_count": 8,
   "id": "10c28269",
   "metadata": {},
   "outputs": [
    {
     "name": "stdout",
     "output_type": "stream",
     "text": [
      "root\n",
      " |-- Order ID: string (nullable = true)\n",
      " |-- Product: string (nullable = true)\n",
      " |-- Quantity Ordered: string (nullable = true)\n",
      " |-- Price Each: string (nullable = true)\n",
      " |-- Order Date: string (nullable = true)\n",
      " |-- Purchase Address: string (nullable = true)\n",
      "\n"
     ]
    }
   ],
   "source": [
    "sales_raw_df.printSchema()"
   ]
  },
  {
   "cell_type": "markdown",
   "id": "c6800c81",
   "metadata": {},
   "source": [
    "# Remove Null Row and Bad Records"
   ]
  },
  {
   "cell_type": "markdown",
   "id": "64f23f0c",
   "metadata": {},
   "source": [
    "### Let's remove null and bad rows"
   ]
  },
  {
   "cell_type": "code",
   "execution_count": 9,
   "id": "b5ab1a78",
   "metadata": {},
   "outputs": [],
   "source": [
    "from pyspark.sql.functions import col"
   ]
  },
  {
   "cell_type": "code",
   "execution_count": 10,
   "id": "94f4e550",
   "metadata": {},
   "outputs": [
    {
     "name": "stdout",
     "output_type": "stream",
     "text": [
      "+--------+-------+----------------+----------+----------+----------------+\n",
      "|Order ID|Product|Quantity Ordered|Price Each|Order Date|Purchase Address|\n",
      "+--------+-------+----------------+----------+----------+----------------+\n",
      "|    null|   null|            null|      null|      null|            null|\n",
      "|    null|   null|            null|      null|      null|            null|\n",
      "|    null|   null|            null|      null|      null|            null|\n",
      "|    null|   null|            null|      null|      null|            null|\n",
      "|    null|   null|            null|      null|      null|            null|\n",
      "|    null|   null|            null|      null|      null|            null|\n",
      "|    null|   null|            null|      null|      null|            null|\n",
      "|    null|   null|            null|      null|      null|            null|\n",
      "|    null|   null|            null|      null|      null|            null|\n",
      "|    null|   null|            null|      null|      null|            null|\n",
      "+--------+-------+----------------+----------+----------+----------------+\n",
      "only showing top 10 rows\n",
      "\n"
     ]
    }
   ],
   "source": [
    "sales_raw_df.filter(col(\"Order ID\").isNull() == True).show(10)"
   ]
  },
  {
   "cell_type": "code",
   "execution_count": 11,
   "id": "7d0fb99d",
   "metadata": {},
   "outputs": [],
   "source": [
    "sales_raw_df = sales_raw_df.na.drop(\"any\")"
   ]
  },
  {
   "cell_type": "code",
   "execution_count": 12,
   "id": "fe873f95",
   "metadata": {},
   "outputs": [
    {
     "name": "stdout",
     "output_type": "stream",
     "text": [
      "+--------+-------+----------------+----------+----------+----------------+\n",
      "|Order ID|Product|Quantity Ordered|Price Each|Order Date|Purchase Address|\n",
      "+--------+-------+----------------+----------+----------+----------------+\n",
      "+--------+-------+----------------+----------+----------+----------------+\n",
      "\n"
     ]
    }
   ],
   "source": [
    "sales_raw_df.filter(col(\"Order ID\").isNull() == True).show()"
   ]
  },
  {
   "cell_type": "code",
   "execution_count": 13,
   "id": "416ea48f",
   "metadata": {},
   "outputs": [
    {
     "name": "stdout",
     "output_type": "stream",
     "text": [
      "+-------+------------------+------------+------------------+------------------+--------------+--------------------+\n",
      "|summary|          Order ID|     Product|  Quantity Ordered|        Price Each|    Order Date|    Purchase Address|\n",
      "+-------+------------------+------------+------------------+------------------+--------------+--------------------+\n",
      "|  count|            186305|      186305|            186305|            186305|        186305|              186305|\n",
      "|   mean| 230417.5693788653|        null|1.1243828986286637|184.39973476747707|          null|                null|\n",
      "| stddev|51512.737109995265|        null|0.4427926240286704| 332.7313298843439|          null|                null|\n",
      "|    min|            141234|20in Monitor|                 1|            109.99|01/01/19 03:07|1 11th St, Atlant...|\n",
      "|    max|          Order ID|      iPhone|  Quantity Ordered|        Price Each|    Order Date|    Purchase Address|\n",
      "+-------+------------------+------------+------------------+------------------+--------------+--------------------+\n",
      "\n"
     ]
    }
   ],
   "source": [
    "sales_raw_df.describe(\"Order ID\",\"Product\",\"Quantity Ordered\",\"Price Each\",\"Order Date\",\"Purchase Address\").show()"
   ]
  },
  {
   "cell_type": "code",
   "execution_count": 14,
   "id": "19cb2468",
   "metadata": {},
   "outputs": [
    {
     "name": "stdout",
     "output_type": "stream",
     "text": [
      "+--------+-------+----------------+----------+----------+----------------+\n",
      "|Order ID|Product|Quantity Ordered|Price Each|Order Date|Purchase Address|\n",
      "+--------+-------+----------------+----------+----------+----------------+\n",
      "|Order ID|Product|Quantity Ordered|Price Each|Order Date|Purchase Address|\n",
      "|Order ID|Product|Quantity Ordered|Price Each|Order Date|Purchase Address|\n",
      "|Order ID|Product|Quantity Ordered|Price Each|Order Date|Purchase Address|\n",
      "|Order ID|Product|Quantity Ordered|Price Each|Order Date|Purchase Address|\n",
      "|Order ID|Product|Quantity Ordered|Price Each|Order Date|Purchase Address|\n",
      "|Order ID|Product|Quantity Ordered|Price Each|Order Date|Purchase Address|\n",
      "|Order ID|Product|Quantity Ordered|Price Each|Order Date|Purchase Address|\n",
      "|Order ID|Product|Quantity Ordered|Price Each|Order Date|Purchase Address|\n",
      "|Order ID|Product|Quantity Ordered|Price Each|Order Date|Purchase Address|\n",
      "|Order ID|Product|Quantity Ordered|Price Each|Order Date|Purchase Address|\n",
      "+--------+-------+----------------+----------+----------+----------------+\n",
      "only showing top 10 rows\n",
      "\n"
     ]
    }
   ],
   "source": [
    "sales_raw_df.filter(col(\"Order ID\") == \"Order ID\").show(10)"
   ]
  },
  {
   "cell_type": "code",
   "execution_count": 15,
   "id": "3b154b39",
   "metadata": {},
   "outputs": [],
   "source": [
    "sales_temp_df = sales_raw_df.distinct()"
   ]
  },
  {
   "cell_type": "code",
   "execution_count": 16,
   "id": "e96f4e83",
   "metadata": {},
   "outputs": [
    {
     "name": "stdout",
     "output_type": "stream",
     "text": [
      "+--------+-------+----------------+----------+----------+----------------+\n",
      "|Order ID|Product|Quantity Ordered|Price Each|Order Date|Purchase Address|\n",
      "+--------+-------+----------------+----------+----------+----------------+\n",
      "|Order ID|Product|Quantity Ordered|Price Each|Order Date|Purchase Address|\n",
      "+--------+-------+----------------+----------+----------+----------------+\n",
      "\n"
     ]
    }
   ],
   "source": [
    "sales_temp_df.filter(col(\"Order ID\") == \"Order ID\").show(10)"
   ]
  },
  {
   "cell_type": "code",
   "execution_count": 17,
   "id": "567cb3fd",
   "metadata": {},
   "outputs": [],
   "source": [
    "sales_temp_df = sales_temp_df.filter(col(\"Order ID\")!= \"Order ID\")"
   ]
  },
  {
   "cell_type": "code",
   "execution_count": 18,
   "id": "82263a87",
   "metadata": {},
   "outputs": [
    {
     "name": "stdout",
     "output_type": "stream",
     "text": [
      "+--------+-------+----------------+----------+----------+----------------+\n",
      "|Order ID|Product|Quantity Ordered|Price Each|Order Date|Purchase Address|\n",
      "+--------+-------+----------------+----------+----------+----------------+\n",
      "+--------+-------+----------------+----------+----------+----------------+\n",
      "\n"
     ]
    }
   ],
   "source": [
    "sales_temp_df.filter(col(\"Order ID\") == \"Order ID\").show()"
   ]
  },
  {
   "cell_type": "code",
   "execution_count": 19,
   "id": "68a68a4c",
   "metadata": {},
   "outputs": [
    {
     "name": "stdout",
     "output_type": "stream",
     "text": [
      "+--------+--------------------------+----------------+----------+--------------+----------------------------------------+\n",
      "|Order ID|Product                   |Quantity Ordered|Price Each|Order Date    |Purchase Address                        |\n",
      "+--------+--------------------------+----------------+----------+--------------+----------------------------------------+\n",
      "|295900  |AA Batteries (4-pack)     |1               |3.84      |12/27/19 18:56|283 Washington St, Boston, MA 02215     |\n",
      "|295923  |Lightning Charging Cable  |1               |14.95     |12/21/19 13:41|968 8th St, Austin, TX 73301            |\n",
      "|295991  |Lightning Charging Cable  |1               |14.95     |12/15/19 20:16|857 Center St, Boston, MA 02215         |\n",
      "|296076  |Macbook Pro Laptop        |1               |1700      |12/03/19 15:19|679 Chestnut St, San Francisco, CA 94016|\n",
      "|297015  |AAA Batteries (4-pack)    |3               |2.99      |12/13/19 08:43|58 Dogwood St, San Francisco, CA 94016  |\n",
      "|297237  |Bose SoundSport Headphones|1               |99.99     |12/16/19 10:28|355 Park St, Boston, MA 02215           |\n",
      "|297376  |27in FHD Monitor          |1               |149.99    |12/03/19 11:38|542 9th St, New York City, NY 10001     |\n",
      "|297438  |Lightning Charging Cable  |1               |14.95     |12/17/19 13:13|708 Walnut St, New York City, NY 10001  |\n",
      "|297541  |AAA Batteries (4-pack)    |1               |2.99      |12/20/19 10:24|538 Hickory St, San Francisco, CA 94016 |\n",
      "|297635  |Wired Headphones          |1               |11.99     |12/06/19 09:50|199 8th St, San Francisco, CA 94016     |\n",
      "+--------+--------------------------+----------------+----------+--------------+----------------------------------------+\n",
      "only showing top 10 rows\n",
      "\n"
     ]
    }
   ],
   "source": [
    "sales_temp_df.show(10,truncate = False)"
   ]
  },
  {
   "cell_type": "code",
   "execution_count": 20,
   "id": "92e745d1",
   "metadata": {},
   "outputs": [
    {
     "name": "stdout",
     "output_type": "stream",
     "text": [
      "+-------+------------------+------------+------------------+------------------+--------------+--------------------+\n",
      "|summary|          Order ID|     Product|  Quantity Ordered|        Price Each|    Order Date|    Purchase Address|\n",
      "+-------+------------------+------------+------------------+------------------+--------------+--------------------+\n",
      "|  count|            185686|      185686|            185686|            185686|        185686|              185686|\n",
      "|   mean|230411.37622653297|        null|1.1245435843305365|184.51925546352427|          null|                null|\n",
      "| stddev| 51511.71718332086|        null|0.4430687383832874| 332.8438383900525|          null|                null|\n",
      "|    min|            141234|20in Monitor|                 1|            109.99|01/01/19 03:07|1 11th St, Atlant...|\n",
      "|    max|            319670|      iPhone|                 9|            999.99|12/31/19 23:53|999 Wilson St, Sa...|\n",
      "+-------+------------------+------------+------------------+------------------+--------------+--------------------+\n",
      "\n"
     ]
    }
   ],
   "source": [
    "sales_temp_df.describe(\"Order ID\",\"Product\",\"Quantity Ordered\",\"Price Each\",\"Order Date\",\"Purchase Address\").show()"
   ]
  },
  {
   "cell_type": "markdown",
   "id": "79b85c43",
   "metadata": {},
   "source": [
    "### Let's extract City and State from the Purchase Address"
   ]
  },
  {
   "cell_type": "markdown",
   "id": "294e8e71",
   "metadata": {},
   "source": [
    "The python split method splits a string into a list, however, Spark does have a Split function too"
   ]
  },
  {
   "cell_type": "code",
   "execution_count": 21,
   "id": "8eed4600",
   "metadata": {},
   "outputs": [],
   "source": [
    "from pyspark.sql.functions import split"
   ]
  },
  {
   "cell_type": "code",
   "execution_count": 22,
   "id": "3968f954",
   "metadata": {},
   "outputs": [
    {
     "name": "stdout",
     "output_type": "stream",
     "text": [
      "+----------------------------------------+\n",
      "|Purchase Address                        |\n",
      "+----------------------------------------+\n",
      "|283 Washington St, Boston, MA 02215     |\n",
      "|968 8th St, Austin, TX 73301            |\n",
      "|857 Center St, Boston, MA 02215         |\n",
      "|679 Chestnut St, San Francisco, CA 94016|\n",
      "|58 Dogwood St, San Francisco, CA 94016  |\n",
      "|355 Park St, Boston, MA 02215           |\n",
      "|542 9th St, New York City, NY 10001     |\n",
      "|708 Walnut St, New York City, NY 10001  |\n",
      "|538 Hickory St, San Francisco, CA 94016 |\n",
      "|199 8th St, San Francisco, CA 94016     |\n",
      "+----------------------------------------+\n",
      "only showing top 10 rows\n",
      "\n"
     ]
    }
   ],
   "source": [
    "sales_temp_df.select(\"Purchase Address\").show(10, False)"
   ]
  },
  {
   "cell_type": "code",
   "execution_count": 23,
   "id": "57337fd2",
   "metadata": {},
   "outputs": [
    {
     "name": "stdout",
     "output_type": "stream",
     "text": [
      "+----------------------------------------+--------------------------------------------+\n",
      "|Purchase Address                        |split(Purchase Address, ,, -1)              |\n",
      "+----------------------------------------+--------------------------------------------+\n",
      "|283 Washington St, Boston, MA 02215     |[283 Washington St,  Boston,  MA 02215]     |\n",
      "|968 8th St, Austin, TX 73301            |[968 8th St,  Austin,  TX 73301]            |\n",
      "|857 Center St, Boston, MA 02215         |[857 Center St,  Boston,  MA 02215]         |\n",
      "|679 Chestnut St, San Francisco, CA 94016|[679 Chestnut St,  San Francisco,  CA 94016]|\n",
      "|58 Dogwood St, San Francisco, CA 94016  |[58 Dogwood St,  San Francisco,  CA 94016]  |\n",
      "|355 Park St, Boston, MA 02215           |[355 Park St,  Boston,  MA 02215]           |\n",
      "|542 9th St, New York City, NY 10001     |[542 9th St,  New York City,  NY 10001]     |\n",
      "|708 Walnut St, New York City, NY 10001  |[708 Walnut St,  New York City,  NY 10001]  |\n",
      "|538 Hickory St, San Francisco, CA 94016 |[538 Hickory St,  San Francisco,  CA 94016] |\n",
      "|199 8th St, San Francisco, CA 94016     |[199 8th St,  San Francisco,  CA 94016]     |\n",
      "+----------------------------------------+--------------------------------------------+\n",
      "only showing top 10 rows\n",
      "\n"
     ]
    }
   ],
   "source": [
    "sales_temp_df.select(\"Purchase Address\",split(col(\"Purchase Address\"),\",\")).show(10, False)"
   ]
  },
  {
   "cell_type": "code",
   "execution_count": 24,
   "id": "61a27cce",
   "metadata": {},
   "outputs": [
    {
     "name": "stdout",
     "output_type": "stream",
     "text": [
      "+----------------------------------------+---------------------------------+\n",
      "|Purchase Address                        |split(Purchase Address, ,, -1)[1]|\n",
      "+----------------------------------------+---------------------------------+\n",
      "|283 Washington St, Boston, MA 02215     | Boston                          |\n",
      "|968 8th St, Austin, TX 73301            | Austin                          |\n",
      "|857 Center St, Boston, MA 02215         | Boston                          |\n",
      "|679 Chestnut St, San Francisco, CA 94016| San Francisco                   |\n",
      "|58 Dogwood St, San Francisco, CA 94016  | San Francisco                   |\n",
      "|355 Park St, Boston, MA 02215           | Boston                          |\n",
      "|542 9th St, New York City, NY 10001     | New York City                   |\n",
      "|708 Walnut St, New York City, NY 10001  | New York City                   |\n",
      "|538 Hickory St, San Francisco, CA 94016 | San Francisco                   |\n",
      "|199 8th St, San Francisco, CA 94016     | San Francisco                   |\n",
      "+----------------------------------------+---------------------------------+\n",
      "only showing top 10 rows\n",
      "\n"
     ]
    }
   ],
   "source": [
    "sales_temp_df.select(\"Purchase Address\",split(col(\"Purchase Address\"),\",\").getItem(1)).show(10, False)"
   ]
  },
  {
   "cell_type": "code",
   "execution_count": 25,
   "id": "0cacdc61",
   "metadata": {},
   "outputs": [
    {
     "name": "stdout",
     "output_type": "stream",
     "text": [
      "+----------------------------------------+---------------------------------+\n",
      "|Purchase Address                        |split(Purchase Address, ,, -1)[2]|\n",
      "+----------------------------------------+---------------------------------+\n",
      "|283 Washington St, Boston, MA 02215     | MA 02215                        |\n",
      "|968 8th St, Austin, TX 73301            | TX 73301                        |\n",
      "|857 Center St, Boston, MA 02215         | MA 02215                        |\n",
      "|679 Chestnut St, San Francisco, CA 94016| CA 94016                        |\n",
      "|58 Dogwood St, San Francisco, CA 94016  | CA 94016                        |\n",
      "|355 Park St, Boston, MA 02215           | MA 02215                        |\n",
      "|542 9th St, New York City, NY 10001     | NY 10001                        |\n",
      "|708 Walnut St, New York City, NY 10001  | NY 10001                        |\n",
      "|538 Hickory St, San Francisco, CA 94016 | CA 94016                        |\n",
      "|199 8th St, San Francisco, CA 94016     | CA 94016                        |\n",
      "+----------------------------------------+---------------------------------+\n",
      "only showing top 10 rows\n",
      "\n"
     ]
    }
   ],
   "source": [
    "sales_temp_df.select(\"Purchase Address\",split(col(\"Purchase Address\"),\",\").getItem(2)).show(10, False)"
   ]
  },
  {
   "cell_type": "code",
   "execution_count": 26,
   "id": "6eb823cd",
   "metadata": {},
   "outputs": [
    {
     "name": "stdout",
     "output_type": "stream",
     "text": [
      "+----------------------------------------+-----------------------------------------------+\n",
      "|Purchase Address                        |split(split(Purchase Address, ,, -1)[2],  , -1)|\n",
      "+----------------------------------------+-----------------------------------------------+\n",
      "|283 Washington St, Boston, MA 02215     |[, MA, 02215]                                  |\n",
      "|968 8th St, Austin, TX 73301            |[, TX, 73301]                                  |\n",
      "|857 Center St, Boston, MA 02215         |[, MA, 02215]                                  |\n",
      "|679 Chestnut St, San Francisco, CA 94016|[, CA, 94016]                                  |\n",
      "|58 Dogwood St, San Francisco, CA 94016  |[, CA, 94016]                                  |\n",
      "|355 Park St, Boston, MA 02215           |[, MA, 02215]                                  |\n",
      "|542 9th St, New York City, NY 10001     |[, NY, 10001]                                  |\n",
      "|708 Walnut St, New York City, NY 10001  |[, NY, 10001]                                  |\n",
      "|538 Hickory St, San Francisco, CA 94016 |[, CA, 94016]                                  |\n",
      "|199 8th St, San Francisco, CA 94016     |[, CA, 94016]                                  |\n",
      "+----------------------------------------+-----------------------------------------------+\n",
      "only showing top 10 rows\n",
      "\n"
     ]
    }
   ],
   "source": [
    "sales_temp_df.select(\"Purchase Address\",split(split(col(\"Purchase Address\"),\",\").getItem(2),' ')).show(10,False)"
   ]
  },
  {
   "cell_type": "code",
   "execution_count": 27,
   "id": "6c73d749",
   "metadata": {},
   "outputs": [],
   "source": [
    "sales_temp_df = sales_temp_df.withColumn(\"City\",split(col(\"Purchase Address\"),\",\").\n",
    "                                         getItem(1)).withColumn(\"State\",split(split(col(\"Purchase Address\"),\",\").getItem(2),' ').getItem(1))"
   ]
  },
  {
   "cell_type": "code",
   "execution_count": 28,
   "id": "4e2c9fff",
   "metadata": {},
   "outputs": [
    {
     "name": "stdout",
     "output_type": "stream",
     "text": [
      "+--------+--------------------------+----------------+----------+--------------+----------------------------------------+--------------+-----+\n",
      "|Order ID|Product                   |Quantity Ordered|Price Each|Order Date    |Purchase Address                        |City          |State|\n",
      "+--------+--------------------------+----------------+----------+--------------+----------------------------------------+--------------+-----+\n",
      "|295900  |AA Batteries (4-pack)     |1               |3.84      |12/27/19 18:56|283 Washington St, Boston, MA 02215     | Boston       |MA   |\n",
      "|295923  |Lightning Charging Cable  |1               |14.95     |12/21/19 13:41|968 8th St, Austin, TX 73301            | Austin       |TX   |\n",
      "|295991  |Lightning Charging Cable  |1               |14.95     |12/15/19 20:16|857 Center St, Boston, MA 02215         | Boston       |MA   |\n",
      "|296076  |Macbook Pro Laptop        |1               |1700      |12/03/19 15:19|679 Chestnut St, San Francisco, CA 94016| San Francisco|CA   |\n",
      "|297015  |AAA Batteries (4-pack)    |3               |2.99      |12/13/19 08:43|58 Dogwood St, San Francisco, CA 94016  | San Francisco|CA   |\n",
      "|297237  |Bose SoundSport Headphones|1               |99.99     |12/16/19 10:28|355 Park St, Boston, MA 02215           | Boston       |MA   |\n",
      "|297376  |27in FHD Monitor          |1               |149.99    |12/03/19 11:38|542 9th St, New York City, NY 10001     | New York City|NY   |\n",
      "|297438  |Lightning Charging Cable  |1               |14.95     |12/17/19 13:13|708 Walnut St, New York City, NY 10001  | New York City|NY   |\n",
      "|297541  |AAA Batteries (4-pack)    |1               |2.99      |12/20/19 10:24|538 Hickory St, San Francisco, CA 94016 | San Francisco|CA   |\n",
      "|297635  |Wired Headphones          |1               |11.99     |12/06/19 09:50|199 8th St, San Francisco, CA 94016     | San Francisco|CA   |\n",
      "+--------+--------------------------+----------------+----------+--------------+----------------------------------------+--------------+-----+\n",
      "only showing top 10 rows\n",
      "\n"
     ]
    }
   ],
   "source": [
    "sales_temp_df.show(10, False)"
   ]
  },
  {
   "cell_type": "markdown",
   "id": "d84de3d4",
   "metadata": {},
   "source": [
    "## Let's change some datatype, rename a few column, drop some solumns,and add new Columns"
   ]
  },
  {
   "cell_type": "markdown",
   "id": "a706d455",
   "metadata": {},
   "source": [
    "### Rename and change Data Types"
   ]
  },
  {
   "cell_type": "code",
   "execution_count": 29,
   "id": "bdb51fa7",
   "metadata": {},
   "outputs": [],
   "source": [
    "from pyspark.sql.functions import to_timestamp"
   ]
  },
  {
   "cell_type": "code",
   "execution_count": 30,
   "id": "2295e7ce",
   "metadata": {},
   "outputs": [],
   "source": [
    "from pyspark.sql.types import IntegerType, FloatType"
   ]
  },
  {
   "cell_type": "code",
   "execution_count": 31,
   "id": "58bbdfcf",
   "metadata": {},
   "outputs": [],
   "source": [
    "sales_temp_df = sales_temp_df.withColumn(\"OrderID\", col(\"Order ID\").cast(IntegerType())).withColumn(\"Quantity\",col(\"Quantity Ordered\").cast(IntegerType())).withColumn(\"Price\",col(\"Price Each\").cast(FloatType())).withColumn(\"OrderDate\", to_timestamp(col(\"Order Date\"), \"MM/dd/yy HH:mm\")).withColumnRenamed(\"purchase Address\",\"StoreAddress\").drop(\"Order ID\").drop(\"Quantity Ordered\").drop(\"Price Each\").drop(\"Purchase Address\")\n"
   ]
  },
  {
   "cell_type": "code",
   "execution_count": 32,
   "id": "79efaa01",
   "metadata": {},
   "outputs": [
    {
     "name": "stdout",
     "output_type": "stream",
     "text": [
      "+--------------------------+--------------+----------------------------------------+--------------+-----+-------+--------+------+-------------------+\n",
      "|Product                   |Order Date    |StoreAddress                            |City          |State|OrderID|Quantity|Price |OrderDate          |\n",
      "+--------------------------+--------------+----------------------------------------+--------------+-----+-------+--------+------+-------------------+\n",
      "|AA Batteries (4-pack)     |12/27/19 18:56|283 Washington St, Boston, MA 02215     | Boston       |MA   |295900 |1       |3.84  |2019-12-27 18:56:00|\n",
      "|Lightning Charging Cable  |12/21/19 13:41|968 8th St, Austin, TX 73301            | Austin       |TX   |295923 |1       |14.95 |2019-12-21 13:41:00|\n",
      "|Lightning Charging Cable  |12/15/19 20:16|857 Center St, Boston, MA 02215         | Boston       |MA   |295991 |1       |14.95 |2019-12-15 20:16:00|\n",
      "|Macbook Pro Laptop        |12/03/19 15:19|679 Chestnut St, San Francisco, CA 94016| San Francisco|CA   |296076 |1       |1700.0|2019-12-03 15:19:00|\n",
      "|AAA Batteries (4-pack)    |12/13/19 08:43|58 Dogwood St, San Francisco, CA 94016  | San Francisco|CA   |297015 |3       |2.99  |2019-12-13 08:43:00|\n",
      "|Bose SoundSport Headphones|12/16/19 10:28|355 Park St, Boston, MA 02215           | Boston       |MA   |297237 |1       |99.99 |2019-12-16 10:28:00|\n",
      "|27in FHD Monitor          |12/03/19 11:38|542 9th St, New York City, NY 10001     | New York City|NY   |297376 |1       |149.99|2019-12-03 11:38:00|\n",
      "|Lightning Charging Cable  |12/17/19 13:13|708 Walnut St, New York City, NY 10001  | New York City|NY   |297438 |1       |14.95 |2019-12-17 13:13:00|\n",
      "|AAA Batteries (4-pack)    |12/20/19 10:24|538 Hickory St, San Francisco, CA 94016 | San Francisco|CA   |297541 |1       |2.99  |2019-12-20 10:24:00|\n",
      "|Wired Headphones          |12/06/19 09:50|199 8th St, San Francisco, CA 94016     | San Francisco|CA   |297635 |1       |11.99 |2019-12-06 09:50:00|\n",
      "+--------------------------+--------------+----------------------------------------+--------------+-----+-------+--------+------+-------------------+\n",
      "only showing top 10 rows\n",
      "\n"
     ]
    }
   ],
   "source": [
    "sales_temp_df.show(10,False)"
   ]
  },
  {
   "cell_type": "code",
   "execution_count": 33,
   "id": "3bfe96f4",
   "metadata": {},
   "outputs": [
    {
     "name": "stdout",
     "output_type": "stream",
     "text": [
      "root\n",
      " |-- Product: string (nullable = true)\n",
      " |-- Order Date: string (nullable = true)\n",
      " |-- StoreAddress: string (nullable = true)\n",
      " |-- City: string (nullable = true)\n",
      " |-- State: string (nullable = true)\n",
      " |-- OrderID: integer (nullable = true)\n",
      " |-- Quantity: integer (nullable = true)\n",
      " |-- Price: float (nullable = true)\n",
      " |-- OrderDate: timestamp (nullable = true)\n",
      "\n"
     ]
    }
   ],
   "source": [
    "sales_temp_df.printSchema()"
   ]
  },
  {
   "cell_type": "markdown",
   "id": "a63c2cff",
   "metadata": {},
   "source": [
    "# Add New Columns and Month"
   ]
  },
  {
   "cell_type": "code",
   "execution_count": 34,
   "id": "87642cc8",
   "metadata": {},
   "outputs": [],
   "source": [
    "from pyspark.sql.functions import year, month"
   ]
  },
  {
   "cell_type": "code",
   "execution_count": 35,
   "id": "d52125a5",
   "metadata": {},
   "outputs": [],
   "source": [
    "sales_temp_df = sales_temp_df.withColumn(\"ReportYear\", year(col(\"OrderDate\"))).withColumn(\"Month\",month(col(\"OrderDate\")))"
   ]
  },
  {
   "cell_type": "code",
   "execution_count": 36,
   "id": "8eaecbf0",
   "metadata": {},
   "outputs": [
    {
     "name": "stdout",
     "output_type": "stream",
     "text": [
      "+--------------------+--------------+--------------------+--------------+-----+-------+--------+------+-------------------+----------+-----+\n",
      "|             Product|    Order Date|        StoreAddress|          City|State|OrderID|Quantity| Price|          OrderDate|ReportYear|Month|\n",
      "+--------------------+--------------+--------------------+--------------+-----+-------+--------+------+-------------------+----------+-----+\n",
      "|AA Batteries (4-p...|12/27/19 18:56|283 Washington St...|        Boston|   MA| 295900|       1|  3.84|2019-12-27 18:56:00|      2019|   12|\n",
      "|Lightning Chargin...|12/21/19 13:41|968 8th St, Austi...|        Austin|   TX| 295923|       1| 14.95|2019-12-21 13:41:00|      2019|   12|\n",
      "|Lightning Chargin...|12/15/19 20:16|857 Center St, Bo...|        Boston|   MA| 295991|       1| 14.95|2019-12-15 20:16:00|      2019|   12|\n",
      "|  Macbook Pro Laptop|12/03/19 15:19|679 Chestnut St, ...| San Francisco|   CA| 296076|       1|1700.0|2019-12-03 15:19:00|      2019|   12|\n",
      "|AAA Batteries (4-...|12/13/19 08:43|58 Dogwood St, Sa...| San Francisco|   CA| 297015|       3|  2.99|2019-12-13 08:43:00|      2019|   12|\n",
      "|Bose SoundSport H...|12/16/19 10:28|355 Park St, Bost...|        Boston|   MA| 297237|       1| 99.99|2019-12-16 10:28:00|      2019|   12|\n",
      "|    27in FHD Monitor|12/03/19 11:38|542 9th St, New Y...| New York City|   NY| 297376|       1|149.99|2019-12-03 11:38:00|      2019|   12|\n",
      "|Lightning Chargin...|12/17/19 13:13|708 Walnut St, Ne...| New York City|   NY| 297438|       1| 14.95|2019-12-17 13:13:00|      2019|   12|\n",
      "|AAA Batteries (4-...|12/20/19 10:24|538 Hickory St, S...| San Francisco|   CA| 297541|       1|  2.99|2019-12-20 10:24:00|      2019|   12|\n",
      "|    Wired Headphones|12/06/19 09:50|199 8th St, San F...| San Francisco|   CA| 297635|       1| 11.99|2019-12-06 09:50:00|      2019|   12|\n",
      "+--------------------+--------------+--------------------+--------------+-----+-------+--------+------+-------------------+----------+-----+\n",
      "only showing top 10 rows\n",
      "\n"
     ]
    }
   ],
   "source": [
    "sales_temp_df.show(10)"
   ]
  },
  {
   "cell_type": "markdown",
   "id": "8e703493",
   "metadata": {},
   "source": [
    "# Let's write the final data frame into a partioned parquet file"
   ]
  },
  {
   "cell_type": "code",
   "execution_count": 37,
   "id": "b8be2496",
   "metadata": {},
   "outputs": [],
   "source": [
    "sales_final_df = sales_temp_df.select(\"OrderID\",\"product\",\"Quantity\",\"Price\",\"OrderDate\",\"StoreAddress\",\"City\",\"State\",\"ReportYear\",\"Month\")"
   ]
  },
  {
   "cell_type": "code",
   "execution_count": 38,
   "id": "d3e105d4",
   "metadata": {},
   "outputs": [
    {
     "name": "stdout",
     "output_type": "stream",
     "text": [
      "+-------+--------------------+--------+------+-------------------+--------------------+--------------+-----+----------+-----+\n",
      "|OrderID|             product|Quantity| Price|          OrderDate|        StoreAddress|          City|State|ReportYear|Month|\n",
      "+-------+--------------------+--------+------+-------------------+--------------------+--------------+-----+----------+-----+\n",
      "| 295900|AA Batteries (4-p...|       1|  3.84|2019-12-27 18:56:00|283 Washington St...|        Boston|   MA|      2019|   12|\n",
      "| 295923|Lightning Chargin...|       1| 14.95|2019-12-21 13:41:00|968 8th St, Austi...|        Austin|   TX|      2019|   12|\n",
      "| 295991|Lightning Chargin...|       1| 14.95|2019-12-15 20:16:00|857 Center St, Bo...|        Boston|   MA|      2019|   12|\n",
      "| 296076|  Macbook Pro Laptop|       1|1700.0|2019-12-03 15:19:00|679 Chestnut St, ...| San Francisco|   CA|      2019|   12|\n",
      "| 297015|AAA Batteries (4-...|       3|  2.99|2019-12-13 08:43:00|58 Dogwood St, Sa...| San Francisco|   CA|      2019|   12|\n",
      "| 297237|Bose SoundSport H...|       1| 99.99|2019-12-16 10:28:00|355 Park St, Bost...|        Boston|   MA|      2019|   12|\n",
      "| 297376|    27in FHD Monitor|       1|149.99|2019-12-03 11:38:00|542 9th St, New Y...| New York City|   NY|      2019|   12|\n",
      "| 297438|Lightning Chargin...|       1| 14.95|2019-12-17 13:13:00|708 Walnut St, Ne...| New York City|   NY|      2019|   12|\n",
      "| 297541|AAA Batteries (4-...|       1|  2.99|2019-12-20 10:24:00|538 Hickory St, S...| San Francisco|   CA|      2019|   12|\n",
      "| 297635|    Wired Headphones|       1| 11.99|2019-12-06 09:50:00|199 8th St, San F...| San Francisco|   CA|      2019|   12|\n",
      "+-------+--------------------+--------+------+-------------------+--------------------+--------------+-----+----------+-----+\n",
      "only showing top 10 rows\n",
      "\n"
     ]
    }
   ],
   "source": [
    "sales_final_df.show(10)"
   ]
  },
  {
   "cell_type": "code",
   "execution_count": 39,
   "id": "78faada7",
   "metadata": {},
   "outputs": [],
   "source": [
    "output_path = \"/home/shyam/NiceSoftwareSolutions/ApacheSpark3_for_Data_Engineering_and_Analytics_with_Python/Structured_API-Spark_DataFrame/output/sales\"\n",
    "sales_final_df.write.mode(\"overwrite\").partitionBy(\"ReportYear\",\"Month\").parquet(output_path)"
   ]
  },
  {
   "cell_type": "code",
   "execution_count": null,
   "id": "6cfdf251",
   "metadata": {},
   "outputs": [],
   "source": []
  }
 ],
 "metadata": {
  "kernelspec": {
   "display_name": "Python 3",
   "language": "python",
   "name": "python3"
  },
  "language_info": {
   "codemirror_mode": {
    "name": "ipython",
    "version": 3
   },
   "file_extension": ".py",
   "mimetype": "text/x-python",
   "name": "python",
   "nbconvert_exporter": "python",
   "pygments_lexer": "ipython3",
   "version": "3.8.5"
  }
 },
 "nbformat": 4,
 "nbformat_minor": 5
}
